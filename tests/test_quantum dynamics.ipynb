{
 "cells": [
  {
   "cell_type": "code",
   "execution_count": 1,
   "id": "acb7016d",
   "metadata": {},
   "outputs": [],
   "source": [
    "import diracpy as dp\n",
    "import numpy as np\n",
    "import scipy\n",
    "import matplotlib.pyplot as plt"
   ]
  },
  {
   "cell_type": "code",
   "execution_count": 2,
   "id": "b75c0168",
   "metadata": {},
   "outputs": [],
   "source": [
    "cav = dp.fock_subspace(index = 0)\n",
    "atom = dp.two_level_subspace(index = 1)"
   ]
  },
  {
   "cell_type": "code",
   "execution_count": 3,
   "id": "d22d6211",
   "metadata": {},
   "outputs": [],
   "source": [
    "delta_c = 2127293674469188.0\n",
    "delta_a = 2127293674469188.0\n",
    "g = 60112183589120.08\n",
    "kappa =123179248988002.58"
   ]
  },
  {
   "cell_type": "code",
   "execution_count": 4,
   "id": "6d4d362f",
   "metadata": {},
   "outputs": [],
   "source": [
    "def error_tol(f1, f2, tol):\n",
    "    return abs(f1 - f2) < tol"
   ]
  },
  {
   "cell_type": "code",
   "execution_count": 5,
   "id": "3a654144",
   "metadata": {},
   "outputs": [],
   "source": [
    "ham = delta_c * cav.n +  delta_a * atom.sigma_z\n",
    "ham_int = g * (cav.a * atom.sigma_plus +  cav.adag * atom.sigma_minus)\n",
    "initialbasis = [(1,'g'),(0,'e')]"
   ]
  },
  {
   "cell_type": "code",
   "execution_count": 6,
   "id": "1ba44a11",
   "metadata": {},
   "outputs": [
    {
     "name": "stdout",
     "output_type": "stream",
     "text": [
      "building sys basis...\n",
      "...system basis built in 8.726119995117188e-05 seconds\n",
      "defining hmatrix...\n",
      "...hmatrix evaluated in 0.0011212825775146484 seconds\n",
      "0.16770312820379182\n",
      "True\n"
     ]
    }
   ],
   "source": [
    "testsys_unievo = dp.qsys(ham + ham_int,initialstates = initialbasis, n_int = 0)\n",
    "psi0_unievo = dp.ket((0,'e'))\n",
    "rho0_op_unievo = psi0_unievo * psi0_unievo.conj()\n",
    "rho0_unievo = testsys_unievo.matrix(rho0_op_unievo)\n",
    "T = 1e-12\n",
    "times = np.linspace(0, T, 500)\n",
    "soln_unievo = dp.unitaryevolution(rho0_unievo, times, testsys_unievo)\n",
    "soln_unievo.solve()\n",
    "cav_pop_unievo= np.real(soln_unievo.soln[:,0,0])\n",
    "atom_pop_unievo = np.real(soln_unievo.soln[:,1,1])\n",
    "print(cav_pop_unievo[-1])\n",
    "print(error_tol(cav_pop_unievo[-1],0.16770312820379182,tol=1e-8))"
   ]
  },
  {
   "cell_type": "code",
   "execution_count": null,
   "id": "429a8a0c",
   "metadata": {},
   "outputs": [],
   "source": []
  },
  {
   "cell_type": "code",
   "execution_count": 7,
   "id": "aa5e0f8d",
   "metadata": {},
   "outputs": [
    {
     "name": "stdout",
     "output_type": "stream",
     "text": [
      "building sys basis...\n",
      "...appending decay subspaces...\n",
      "...appending decay subspaces...\n",
      "...system basis built in 0.0006949901580810547 seconds\n",
      "defining hmatrix...\n",
      "...hmatrix evaluated in 0.0008218288421630859 seconds\n",
      "True\n",
      "1.0402581147105376e-13\n"
     ]
    }
   ],
   "source": [
    "testsys_lindint = dp.qsys(ham + ham_int,initialstates = initialbasis, n_int = 0, jump_ops = [np.sqrt(kappa) * cav.a])\n",
    "psi0_lindint = dp.ket((0,'e'))\n",
    "rho0_op_lindint = psi0_lindint * psi0_lindint.conj()\n",
    "rho0_lindint = testsys_lindint.matrix(rho0_op_lindint)\n",
    "T = 1e-12\n",
    "times = np.linspace(0, T, 500)\n",
    "soln_lindint = dp.lindbladint(rho0_lindint, times, testsys_lindint)\n",
    "soln_lindint.solve()\n",
    "cav_pop_lindint= np.real(soln_lindint.soln[:,0,0])\n",
    "atom_pop_lindint = np.real(soln_lindint.soln[:,1,1])\n",
    "print(error_tol(cav_pop_lindint[-1],1.0402581147105376e-13,tol=1e-8))\n",
    "print(cav_pop_lindint[-1])"
   ]
  },
  {
   "cell_type": "code",
   "execution_count": 8,
   "id": "bf3b3de7",
   "metadata": {},
   "outputs": [
    {
     "name": "stdout",
     "output_type": "stream",
     "text": [
      "building sys basis...\n",
      "...appending decay subspaces...\n",
      "...appending decay subspaces...\n",
      "...system basis built in 0.0005211830139160156 seconds\n",
      "defining hmatrix...\n",
      "...hmatrix evaluated in 0.000850677490234375 seconds\n",
      "True\n",
      "0.167700032724725\n"
     ]
    }
   ],
   "source": [
    "testsys_vnint = dp.qsys(ham + ham_int,initialstates = initialbasis, n_int = 0, jump_ops = [np.sqrt(kappa) * cav.a])\n",
    "psi0_vnint = dp.ket((0,'e'))\n",
    "rho0_op_vnint = psi0_vnint * psi0_vnint.conj()\n",
    "rho0_vnint = testsys_vnint.matrix(rho0_op_vnint)\n",
    "T = 1e-12\n",
    "times = np.linspace(0, T, 500)\n",
    "solver_vnint = dp.vonneumannint(rho0_vnint, times, testsys_vnint)\n",
    "#soln.solve()\n",
    "cav_pop_vnint= np.real(solver_vnint.soln[:,0,0])\n",
    "atom_pop_vnint = np.real(solver_vnint.soln[:,1,1])\n",
    "print(error_tol(cav_pop_vnint[-1],0.167700032724725,tol=1e-8))\n",
    "print(cav_pop_vnint[-1])"
   ]
  },
  {
   "cell_type": "code",
   "execution_count": 9,
   "id": "cb5286d8",
   "metadata": {},
   "outputs": [],
   "source": [
    "class liouville:\n",
    "\n",
    "    # z0 is the initial state of the system described by its density matrix.\n",
    "    # z0 is represented by a 2d complex numpy array with the dimensions of the Hamiltonian\n",
    "    # times is linearly spaced numpy array of times for which the system is solved for\n",
    "    # This class is used to solve the dynamics for an open quantum system using the Liouvillian.\n",
    "    # Note; to quickly access the steady state times can be a array of shape (2,) with a large final time \n",
    "    # as the evolution is \n",
    "\n",
    "    \n",
    "    def __init__(self, z0, times, ham_obj):\n",
    "        self.t = times\n",
    "        self.z = z0 \n",
    "        self.ham = ham_obj\n",
    "        self.dim = self.ham.dim\n",
    "        self.identity = np.identity(self.dim)\n",
    "        self.flsize = self.dim**2\n",
    "        self.vz = z0.T.reshape(z0.size)\n",
    "        self.liouvillian = self.generate_liouvillian()\n",
    "        \n",
    "    def lindblad_sop(self):\n",
    "        '''converts dissipative part of master equation into superoperator'''\n",
    "        lindbladsop = np.zeros((self.ham.hmatrix.size, self.ham.hmatrix.size), complex)\n",
    "        for i in self.ham.lindbladgamma:\n",
    "            gamma = self.ham.lindbladgamma[i]\n",
    "            lbr = self.ham.lindbladraising[i]\n",
    "            lbl = self.ham.lindbladlowering[i]\n",
    "            lindbladsop += gamma*(np.kron(lbl.conj(), lbl) - 0.5*np.kron(self.identity, lbr@lbl) - 0.5*np.kron((lbr@lbl).T, self.identity))\n",
    "        return lindbladsop\n",
    "    \n",
    "    def system_sop(self):\n",
    "        '''converts unitary part of master equation into superoperator'''\n",
    "        return -1j*(np.kron(self.identity, self.ham.hmatrix) - np.kron(self.ham.hmatrix.T, self.identity))\n",
    "        \n",
    "    def generate_liouvillian(self):\n",
    "        '''returns the liouvillian superoperator'''\n",
    "        return self.system_sop() + self.lindblad_sop()\n",
    "    \n",
    "    def eigensolve(self):\n",
    "        '''returns liouvillian eigenvalues and eigevectors'''\n",
    "        self.evals, self.levecs, self.revecs = scipy.linalg.eig(self.liouvillian, right = True, left = True)\n",
    "              \n",
    "    def expL_op(self, t):\n",
    "        L = np.zeros([self.dim**2, self.dim**2], complex)\n",
    "        for i in range(self.dim**2):\n",
    "            L[i,i] = np.exp(self.evals[i]*t)\n",
    "        L = self.revecs @ L @ np.linalg.inv(self.revecs)\n",
    "        return L\n",
    "    \n",
    "    def solve(self):\n",
    "        '''calculates time evolution of z0 using liouvillian'''\n",
    "        self.eigensolve()\n",
    "        dt = self.t[1] - self.t[0]\n",
    "        num_t = np.size(self.t)\n",
    "        self.soln = np.zeros([num_t, self.dim, self.dim], complex)\n",
    "        if np.linalg.det(self.revecs) == 0:\n",
    "            print('The Liouvillian does not have linearly independent right eigenvectors: L is not diagonalisable')\n",
    "        else: \n",
    "            for i, t in enumerate(self.t):\n",
    "                self.soln[i] = self.vz.reshape((self.dim, self.dim)).T\n",
    "                self.vz = self.expL_op(dt)@self.vz     \n",
    "    \n",
    "    "
   ]
  },
  {
   "cell_type": "code",
   "execution_count": 13,
   "id": "4a5dd8ad",
   "metadata": {
    "scrolled": false
   },
   "outputs": [
    {
     "name": "stdout",
     "output_type": "stream",
     "text": [
      "building sys basis...\n",
      "...appending decay subspaces...\n",
      "...appending decay subspaces...\n",
      "...system basis built in 0.00044536590576171875 seconds\n",
      "defining hmatrix...\n",
      "...hmatrix evaluated in 0.0007398128509521484 seconds\n",
      "True\n",
      "2.315584825739848e-27\n"
     ]
    }
   ],
   "source": [
    "\n",
    "testsys_lv = dp.qsys(ham + ham_int,initialstates = initialbasis, n_int = 0, jump_ops = [np.sqrt(kappa) * cav.a])\n",
    "psi0_lv = dp.ket((0,'e'))\n",
    "rho0_op_lv = psi0_lv * psi0_lv.conj()\n",
    "rho0_lv = testsys_lv.matrix(rho0_op_lv)\n",
    "T = 1e-12\n",
    "times = np.linspace(0, T, 500)\n",
    "solver_lv = liouville(rho0_lv, times, testsys_lv)\n",
    "solver_lv.solve()\n",
    "cav_pop_lv= np.real(solver_lv.soln[:,0,0])\n",
    "atom_pop_lv = np.real(solver_lv.soln[:,1,1])\n",
    "print(error_tol(cav_pop_lv[-1],2.315584825739848e-27,tol=1e-8))\n",
    "print(cav_pop_lv[-1])"
   ]
  },
  {
   "cell_type": "code",
   "execution_count": 14,
   "id": "3c742674",
   "metadata": {},
   "outputs": [
    {
     "name": "stdout",
     "output_type": "stream",
     "text": [
      "building sys basis...\n",
      "...system basis built in 3.62396240234375e-05 seconds\n",
      "defining hmatrix...\n",
      "...hmatrix evaluated in 0.0006690025329589844 seconds\n",
      "True\n",
      "0.1677069988800502\n"
     ]
    }
   ],
   "source": [
    "testsys_sint = dp.qsys(ham + ham_int,initialstates = initialbasis, n_int = 0)\n",
    "psi0_sint = np.array([0,1])\n",
    "T = 1e-12\n",
    "times = np.linspace(0, T, 500)\n",
    "soln_sint = dp.schrodint(psi0_sint, times, testsys_sint)\n",
    "soln_sint.solve()\n",
    "cav_pop_sint= abs(soln_sint.soln[:,0])**2\n",
    "atom_pop_sint = abs(soln_sint.soln[:,1])**2\n",
    "print(cav_pop_sint[-1] == 0.1677069988800502)\n",
    "print(cav_pop_sint[-1])"
   ]
  },
  {
   "cell_type": "code",
   "execution_count": 15,
   "id": "c543efeb",
   "metadata": {},
   "outputs": [
    {
     "name": "stdout",
     "output_type": "stream",
     "text": [
      "building sys basis...\n",
      "...appending decay subspaces...\n",
      "...appending decay subspaces...\n",
      "...system basis built in 0.0004706382751464844 seconds\n",
      "defining hmatrix...\n",
      "...hmatrix evaluated in 0.0007309913635253906 seconds\n"
     ]
    },
    {
     "data": {
      "image/png": "[encoded data removed]",
      "text/plain": [
       "<Figure size 432x288 with 1 Axes>"
      ]
     },
     "metadata": {
      "needs_background": "light"
     },
     "output_type": "display_data"
    }
   ],
   "source": [
    "testsys_qj = dp.qsys(ham + ham_int,initialstates = initialbasis, n_int = 0,jump_ops = [np.sqrt(kappa) * cav.a] )\n",
    "psi0_qj = np.array([1,0,0])\n",
    "T = 1e-12\n",
    "times = np.linspace(0, T, 500)\n",
    "soln_qj = dp.quantumjumps(psi0_qj, times, testsys_qj)\n",
    "#soln.generate_nonhermitian_ham()\n",
    "soln_qj.solve()\n",
    "cav_pop_qj= np.abs(soln_qj.soln[:,0])\n",
    "atom_pop_qj = np.abs(soln_qj.soln[:,1])\n",
    "plt.plot(times, cav_pop_qj, label = r'$\\left|0,e,g\\right\\rangle$')\n",
    "plt.plot(times, atom_pop_qj, label = r'$\\left|0,g,e\\right\\rangle$')\n",
    "plt.show()"
   ]
  },
  {
   "cell_type": "code",
   "execution_count": null,
   "id": "38a11190",
   "metadata": {},
   "outputs": [],
   "source": []
  },
  {
   "cell_type": "code",
   "execution_count": null,
   "id": "6d46736c",
   "metadata": {},
   "outputs": [],
   "source": []
  },
  {
   "cell_type": "code",
   "execution_count": null,
   "id": "65599ffc",
   "metadata": {},
   "outputs": [],
   "source": []
  },
  {
   "cell_type": "code",
   "execution_count": null,
   "id": "2b40f8c9",
   "metadata": {},
   "outputs": [],
   "source": []
  },
  {
   "cell_type": "code",
   "execution_count": null,
   "id": "813f1b39",
   "metadata": {},
   "outputs": [],
   "source": []
  }
 ],
 "metadata": {
  "kernelspec": {
   "display_name": "Python 3 (ipykernel)",
   "language": "python",
   "name": "python3"
  },
  "language_info": {
   "codemirror_mode": {
    "name": "ipython",
    "version": 3
   },
   "file_extension": ".py",
   "mimetype": "text/x-python",
   "name": "python",
   "nbconvert_exporter": "python",
   "pygments_lexer": "ipython3",
   "version": "3.11.2"
  }
 },
 "nbformat": 4,
 "nbformat_minor": 5
}
