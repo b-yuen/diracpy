{
 "cells": [
  {
   "cell_type": "code",
   "execution_count": 1,
   "id": "17b8029e",
   "metadata": {},
   "outputs": [],
   "source": [
    "import diracpy as dp\n",
    "import numpy as np"
   ]
  },
  {
   "cell_type": "markdown",
   "id": "c38a2f58",
   "metadata": {},
   "source": [
    "### Test bug fix for qvec and qop division\n",
    "\n",
    "Division methods `__div__` replaced by `__truediv__` in qvec and qop class, since the former is supported only in python 2 and the later only in python 3."
   ]
  },
  {
   "cell_type": "code",
   "execution_count": 2,
   "id": "724718e2",
   "metadata": {},
   "outputs": [
    {
     "name": "stdout",
     "output_type": "stream",
     "text": [
      "ket[1]\n"
     ]
    }
   ],
   "source": [
    "psi = dp.ket([1])\n",
    "print(psi)"
   ]
  },
  {
   "cell_type": "code",
   "execution_count": 4,
   "id": "aa8526f9",
   "metadata": {},
   "outputs": [
    {
     "name": "stdout",
     "output_type": "stream",
     "text": [
      "0.5 * ket[1]\n",
      "0.7071067811865475 * ket[1]\n"
     ]
    }
   ],
   "source": [
    "print(psi / 2)\n",
    "print(psi / np.sqrt(2))"
   ]
  },
  {
   "cell_type": "code",
   "execution_count": 5,
   "id": "db3c3813",
   "metadata": {},
   "outputs": [
    {
     "name": "stdout",
     "output_type": "stream",
     "text": [
      "0.5 * bra[1]\n",
      "0.7071067811865475 * bra[1]\n"
     ]
    }
   ],
   "source": [
    "print(psi.conj() / 2)\n",
    "print(psi.conj() / np.sqrt(2))"
   ]
  },
  {
   "cell_type": "code",
   "execution_count": 8,
   "id": "4e20be97",
   "metadata": {},
   "outputs": [
    {
     "name": "stdout",
     "output_type": "stream",
     "text": [
      "0.7071067811865475 * ket[1]\n"
     ]
    }
   ],
   "source": [
    "op = psi * psi.conj()\n",
    "op = op / np.sqrt(2)\n",
    "print(op * psi)"
   ]
  },
  {
   "cell_type": "code",
   "execution_count": null,
   "id": "7be3470f",
   "metadata": {},
   "outputs": [],
   "source": []
  }
 ],
 "metadata": {
  "kernelspec": {
   "display_name": "Python 3 (ipykernel)",
   "language": "python",
   "name": "python3"
  },
  "language_info": {
   "codemirror_mode": {
    "name": "ipython",
    "version": 3
   },
   "file_extension": ".py",
   "mimetype": "text/x-python",
   "name": "python",
   "nbconvert_exporter": "python",
   "pygments_lexer": "ipython3",
   "version": "3.8.16"
  }
 },
 "nbformat": 4,
 "nbformat_minor": 5
}
