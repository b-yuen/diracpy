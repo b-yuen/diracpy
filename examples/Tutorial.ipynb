{
 "cells": [
  {
   "cell_type": "markdown",
   "id": "2b69e6c4",
   "metadata": {},
   "source": [
    "# DiracPy Tutorial"
   ]
  },
  {
   "cell_type": "code",
   "execution_count": 1,
   "id": "54c3d011",
   "metadata": {},
   "outputs": [],
   "source": [
    "import diracpy as dp\n",
    "import numpy as np"
   ]
  },
  {
   "cell_type": "markdown",
   "id": "7d4de8b2",
   "metadata": {},
   "source": [
    "## A Brief Overview\n",
    "\n",
    "Diracpy is a python package that allows one to rapdily build and execute quantum models by coding them directly in a syntax that resembles dirac notation. For example, to define the Hamiltonian\n",
    "$$\n",
    "    H_0 = \\hbar \\omega a^{\\dagger}a\n",
    "$$\n",
    "where $a$ and $a^{\\dagger}$ are bosonic creation and annihilation operators associated with a cavity mode\n",
    "we can right code such as\n",
    "```\n",
    "    H_0 = hbar * omega * cav.adag * cav.a\n",
    "```\n",
    "which obeys exactly the same mathematical operations as one would expect. Suppose that we the action of this state vector such as $\\vert n \\rangle$, i.e.\n",
    "$$\n",
    "    H_0 \\vert \\psi \\rangle = \\hbar \\omega a^{\\dagger} a \\vert n \\rangle,\n",
    "$$\n",
    "then we simply define the Fock state $\\vert n \\rangle$ using ```dp.ket(n)``` with variable ```n``` and act on this with the ```H_0``` we defined above, i.e.\n",
    "```\n",
    "    H_0 * dp.ket(n)\n",
    "```\n",
    "\n",
    "All the rules of state vectors (ket's), dual vectors (bra's) and linear operators are encoded into diracpy. This allows one to define operators abstractly without rather than dealing directly with matrices which require a predefined basis. The advantage is that the sytem can be coded in a very straightforward manner. For example ..."
   ]
  },
  {
   "cell_type": "markdown",
   "id": "41937d35",
   "metadata": {},
   "source": [
    "When we write a state vector, we inherently decide what the indices mean, and how operators act on such state vectors. For example, the we know that the Fock state $\\vert n \\rangle$ is represented by the photon number $n$ and that the creation and annihlation operators have the actions $a \\vert n \\rangle = \\sqrt{n} \\vert n-1 \\rangle$, $a^\\dagger \\vert n \\rangle = \\sqrt{n+1} \\vert n+1 \\rangle$.\n",
    "\n",
    "In diracpy, we define a the fock space for example by creating the fock space object\n",
    "```\n",
    "    cav1 = dp.fock_subspace(index = 0)\n",
    "```\n",
    "which asigns the first index of any subsequent state vector to this Fock space, which we have called cav1. Thus we could now define the single photon ket $\\vert 1 \\rangle$ using\n",
    "```\n",
    "    dp.ket([1])\n",
    "```"
   ]
  },
  {
   "cell_type": "code",
   "execution_count": 11,
   "id": "78773cf0",
   "metadata": {},
   "outputs": [
    {
     "name": "stdout",
     "output_type": "stream",
     "text": [
      "ket[1]\n"
     ]
    }
   ],
   "source": [
    "cav1 = dp.fock_subspace()\n",
    "psi = dp.ket([1])\n",
    "print(psi)"
   ]
  },
  {
   "cell_type": "markdown",
   "id": "60044e36",
   "metadata": {},
   "source": [
    "In defining the fock space ```cav1``` we have also defined the accompanying operators $a$ and $a^{\\dagger}$ which we access using ```cav1.a``` and ```cav1.adag```. "
   ]
  },
  {
   "cell_type": "code",
   "execution_count": 12,
   "id": "0c6140a1",
   "metadata": {},
   "outputs": [
    {
     "name": "stdout",
     "output_type": "stream",
     "text": [
      "1.4142135623730951 * ket[2]\n",
      "ket[0]\n"
     ]
    }
   ],
   "source": [
    "print (cav1.adag * psi)\n",
    "print (cav.a * psi)"
   ]
  },
  {
   "cell_type": "markdown",
   "id": "652fb282",
   "metadata": {},
   "source": [
    "This example highlights how we are able to define state vectors and state spaces without explicitly giving a list of basis states.\n",
    "\n",
    "Suppose we want to define a second cavity mode. The state space then has two Fock subspaces, and we would write states in the form $\\vert n, m \\rangle$ where we have assigned the first index to the first mode and the second index to the second mode. In diracpy we would define such as system as follows"
   ]
  },
  {
   "cell_type": "markdown",
   "id": "08bd5a2a",
   "metadata": {},
   "source": [
    "Still to cover in overview:\n",
    "\n",
    "- Quantum systems\n",
    "- Dynamics"
   ]
  },
  {
   "cell_type": "markdown",
   "id": "4430e2d9",
   "metadata": {},
   "source": [
    "## qvec's"
   ]
  },
  {
   "cell_type": "markdown",
   "id": "b3c9321b",
   "metadata": {},
   "source": [
    "There are two types of qvec (short for quantum vector) objects used in diracpy, bra's and ket's. These both inherit from the private class qvec that defines some fundamental shared properties. The ket qvec's span the Hilbert space of a quantum system, while bra's span the dual space. In the simplest case, qvec objects are instantiated with a list of indexes that define the quantum state, together with a complex coefficient which defaults to one. \n",
    "\n",
    "In the default case of unity coefficient, the qvecs are therefore normalised to unity. For example, we could define the orthonormal basis states of a two level system as $\\{\\vert g \\rangle, \\vert e \\rangle \\}$."
   ]
  },
  {
   "cell_type": "code",
   "execution_count": 2,
   "id": "409be8f4",
   "metadata": {},
   "outputs": [],
   "source": [
    "down = dp.ket(['g'])\n",
    "up = dp.ket(['e'])"
   ]
  },
  {
   "cell_type": "markdown",
   "id": "5bce9b25",
   "metadata": {},
   "source": [
    "Another property of qvecs is that a superposition of qvecs is also a qvec. So we could define the state\n",
    "$$\n",
    "    \\vert \\psi \\rangle = \\frac{1}{\\sqrt 2} \\left( \\vert g \\rangle + \\vert e \\rangle \\right)\n",
    "$$\n",
    "as"
   ]
  },
  {
   "cell_type": "code",
   "execution_count": 3,
   "id": "4d90af07",
   "metadata": {},
   "outputs": [
    {
     "name": "stdout",
     "output_type": "stream",
     "text": [
      "0.7071067811865475 * ket['g'] + 0.7071067811865475 * ket['e']\n"
     ]
    }
   ],
   "source": [
    "psi = 1/np.sqrt(2) * (down + up)\n",
    "type(psi)\n",
    "print(psi)"
   ]
  },
  {
   "cell_type": "markdown",
   "id": "84f0b95e",
   "metadata": {},
   "source": [
    "Here we see that psi is also a ket (qvec) object. We also see in this example that a ket multiplied by a scalar is also a ket. \n",
    "\n",
    "In fact, kets (and qvecs in general) satisfy all axioms of vector spaces. Associativity and addi"
   ]
  },
  {
   "cell_type": "code",
   "execution_count": 4,
   "id": "bbd90e08",
   "metadata": {},
   "outputs": [
    {
     "name": "stdout",
     "output_type": "stream",
     "text": [
      "True\n",
      "True\n",
      "True\n",
      "True\n"
     ]
    }
   ],
   "source": [
    "u, v, w = dp.ket(['u']), dp.ket(['v']), dp.ket(['w'])\n",
    "zeroket = dp.ket()\n",
    "print((u + v) + w == u + (v + w))\n",
    "print(u + v == v + u)\n",
    "print(u + zeroket == u)\n",
    "print(u + (-u) == zeroket)"
   ]
  },
  {
   "cell_type": "markdown",
   "id": "825b7b26",
   "metadata": {},
   "source": [
    "Under scalar multiplication we inherit the associative and commutative properties of scalars. The ramaining vector space axioms are also satisfied. E.g."
   ]
  },
  {
   "cell_type": "code",
   "execution_count": 13,
   "id": "3c4064bb",
   "metadata": {},
   "outputs": [
    {
     "name": "stdout",
     "output_type": "stream",
     "text": [
      "True\n",
      "True\n",
      "True\n"
     ]
    }
   ],
   "source": [
    "a, b = 2, 3\n",
    "print(1 * u == u)\n",
    "print((a + b) * u == a * u + b * u)\n",
    "print(a * (u + v) == a * u + a * v)"
   ]
  },
  {
   "cell_type": "markdown",
   "id": "cda1da63",
   "metadata": {},
   "source": [
    "All of the above is true for bra qvecs, which we could define explicitly, e.g ```dp.bra(['e'])```, or we could use the conjugate method of any qvec:"
   ]
  },
  {
   "cell_type": "code",
   "execution_count": 29,
   "id": "75d9b12a",
   "metadata": {},
   "outputs": [
    {
     "data": {
      "text/plain": [
       "diracpy.states_operators.bra"
      ]
     },
     "execution_count": 29,
     "metadata": {},
     "output_type": "execute_result"
    }
   ],
   "source": [
    "type(down.conj())"
   ]
  },
  {
   "cell_type": "code",
   "execution_count": 27,
   "id": "44413fb2",
   "metadata": {},
   "outputs": [
    {
     "name": "stdout",
     "output_type": "stream",
     "text": [
      "0.7071067811865475 * bra['g'] + 0.7071067811865475 * bra['e']\n"
     ]
    }
   ],
   "source": [
    "psi_star = 1/np.sqrt(2) * (down.conj() + up.conj())\n",
    "type(psi_star)\n",
    "print(psi_star)"
   ]
  },
  {
   "cell_type": "markdown",
   "id": "fb29f7b0",
   "metadata": {},
   "source": [
    "or most simply,"
   ]
  },
  {
   "cell_type": "code",
   "execution_count": 28,
   "id": "fe058140",
   "metadata": {},
   "outputs": [
    {
     "name": "stdout",
     "output_type": "stream",
     "text": [
      "0.7071067811865475 * bra['g'] + 0.7071067811865475 * bra['e']\n"
     ]
    }
   ],
   "source": [
    "psi_star = psi.conj()\n",
    "type(psi_star)\n",
    "print(psi_star)"
   ]
  },
  {
   "cell_type": "code",
   "execution_count": null,
   "id": "46c86f7f",
   "metadata": {},
   "outputs": [],
   "source": []
  },
  {
   "cell_type": "code",
   "execution_count": null,
   "id": "faea288b",
   "metadata": {},
   "outputs": [],
   "source": []
  },
  {
   "cell_type": "code",
   "execution_count": null,
   "id": "986f2ca1",
   "metadata": {},
   "outputs": [],
   "source": []
  },
  {
   "cell_type": "markdown",
   "id": "bcfd5ddd",
   "metadata": {},
   "source": [
    "Inner product..."
   ]
  },
  {
   "cell_type": "markdown",
   "id": "12978ed0",
   "metadata": {},
   "source": [
    "Finally, we can define operators using the outer product of a ket and bra. For example we could define the raising operator $\\vert e \\rangle \\langle g \\vert$ as"
   ]
  },
  {
   "cell_type": "code",
   "execution_count": 32,
   "id": "d20f1e1d",
   "metadata": {},
   "outputs": [],
   "source": [
    "raise_op = up * down.conj()\n",
    "type(raise_op)"
   ]
  },
  {
   "cell_type": "markdown",
   "id": "7f54c1d3",
   "metadata": {},
   "source": [
    "which is no longer a `bra` or `ket` type object, but a `qop` object which can act to the right on kets or to the left on bras, where for example we expect $\\vert e \\rangle \\langle g \\vert g \\rangle = \\vert e \\rangle $, and $\\langle e \\vert e \\rangle \\langle g \\vert = \\langle g \\vert$."
   ]
  },
  {
   "cell_type": "code",
   "execution_count": 35,
   "id": "e523db31",
   "metadata": {},
   "outputs": [
    {
     "name": "stdout",
     "output_type": "stream",
     "text": [
      "ket['e']\n",
      "bra['g']\n"
     ]
    }
   ],
   "source": [
    "print(raise_op * down)\n",
    "print(up.conj() * raise_op)"
   ]
  },
  {
   "cell_type": "markdown",
   "id": "00951c11",
   "metadata": {},
   "source": [
    "We will consider more general ways to define operators in the state space section below."
   ]
  },
  {
   "cell_type": "markdown",
   "id": "2f20f30b",
   "metadata": {},
   "source": [
    "## State Spaces"
   ]
  },
  {
   "cell_type": "markdown",
   "id": "2f15e622",
   "metadata": {},
   "source": [
    "Thus far we have only considered quantum systems that can be defined in terms of bra's and ket's together with their outer products. This is sufficient for small state spaces where we maybe able to define all the neccesary operators of the Hamiltonian explicitly. However, mathematically speaking, for larger state spaces such a limited notation is not practical. Instead, we combine the dirac vectors and dual vectors with linear operators, which we can define in a more abstract scence. A good example of this are the bosonic raising or lowering operators on Fock states where\n",
    "$$\n",
    "    a^\\dagger \\vert n \\rangle = \\sqrt{n+1} \\vert n+1 \\rangle,\\quad\n",
    "    a \\vert n \\rangle = \\sqrt{n} \\vert n-1 \\rangle\n",
    "$$\n",
    "which are true given any $n\\geq0$.\n",
    "These would be impractical to define using the outer products, e.g. for $a^\\dagger$ we could need the infinite sum $a^\\dagger = \\vert 1 \\rangle \\langle 0 \\vert + \\sqrt{2} \\vert 2 \\rangle \\langle 1 \\vert + \\dots + \\sqrt{n+1}\\vert n+1 \\rangle \\langle n \\vert + \\dots$, particulary as we know the general pattern given any $n$."
   ]
  },
  {
   "cell_type": "markdown",
   "id": "41006a69",
   "metadata": {},
   "source": [
    "Diracpy allows ony to define operators abstractly wherever there exists a well defined mapping of indices and coefficients. For example, $a^\\dagger$ maps the index $n$ onto $n+1$, and the Fock states coefficient $c$ onto $c \\sqrt {n+1}$."
   ]
  },
  {
   "cell_type": "code",
   "execution_count": null,
   "id": "008d9105",
   "metadata": {},
   "outputs": [],
   "source": []
  }
 ],
 "metadata": {
  "kernelspec": {
   "display_name": "Python 3 (ipykernel)",
   "language": "python",
   "name": "python3"
  },
  "language_info": {
   "codemirror_mode": {
    "name": "ipython",
    "version": 3
   },
   "file_extension": ".py",
   "mimetype": "text/x-python",
   "name": "python",
   "nbconvert_exporter": "python",
   "pygments_lexer": "ipython3",
   "version": "3.8.16"
  }
 },
 "nbformat": 4,
 "nbformat_minor": 5
}
