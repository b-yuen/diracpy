{
 "cells": [
  {
   "cell_type": "markdown",
   "id": "2b69e6c4",
   "metadata": {},
   "source": [
    "# DiracPy Tutorial"
   ]
  },
  {
   "cell_type": "code",
   "execution_count": 2,
   "id": "54c3d011",
   "metadata": {},
   "outputs": [],
   "source": [
    "import diracpy as dp\n",
    "import numpy as np"
   ]
  },
  {
   "cell_type": "markdown",
   "id": "7d4de8b2",
   "metadata": {},
   "source": [
    "## A Brief Overview\n",
    "\n",
    "Diracpy is a python package that allows one to rapdily build and execute quantum models by coding them directly in a syntax that resembles dirac notation. For example, to define the Hamiltonian\n",
    "$$\n",
    "    H_0 = \\hbar \\omega a^{\\dagger}a\n",
    "$$\n",
    "where $a$ and $a^{\\dagger}$ are bosonic creation and annihilation operators associated with a cavity mode\n",
    "we can right code such as\n",
    "```\n",
    "    H_0 = hbar * omega * cav.adag * cav.a\n",
    "```\n",
    "which obeys exactly the same mathematical operations as one would expect. Suppose that we the action of this state vector such as $\\vert n \\rangle$, i.e.\n",
    "$$\n",
    "    H_0 \\vert \\psi \\rangle = \\hbar \\omega a^{\\dagger} a \\vert n \\rangle,\n",
    "$$\n",
    "then we simply define the Fock state $\\vert n \\rangle$ using ```dp.ket(n)``` with variable ```n``` and act on this with the ```H_0``` we defined above, i.e.\n",
    "```\n",
    "    H_0 * dp.ket(n)\n",
    "```\n",
    "\n",
    "All the rules of state vectors (ket's), dual vectors (bra's) and linear operators are encoded into diracpy. This allows one to define operators abstractly without rather than dealing directly with matrices which require a predefined basis. The advantage is that the sytem can be coded in a very straightforward manner. For example ..."
   ]
  },
  {
   "cell_type": "markdown",
   "id": "41937d35",
   "metadata": {},
   "source": [
    "When we write a state vector, we inherently decide what the indices mean, and how operators act on such state vectors. For example, the we know that the Fock state $\\vert n \\rangle$ is represented by the photon number $n$ and that the creation and annihlation operators have the actions $a \\vert n \\rangle = \\sqrt{n} \\vert n-1 \\rangle$, $a^\\dagger \\vert n \\rangle = \\sqrt{n+1} \\vert n+1 \\rangle$.\n",
    "\n",
    "In diracpy, we define a the fock space for example by creating the fock space object\n",
    "```\n",
    "    cav1 = dp.fock_subspace(index = 0)\n",
    "```\n",
    "which asigns the first index of any subsequent state vector to this Fock space, which we have called cav1. Thus we could now define the single photon ket $\\vert 1 \\rangle$ using\n",
    "```\n",
    "    dp.ket([1])\n",
    "```"
   ]
  },
  {
   "cell_type": "code",
   "execution_count": 11,
   "id": "78773cf0",
   "metadata": {},
   "outputs": [
    {
     "name": "stdout",
     "output_type": "stream",
     "text": [
      "ket[1]\n"
     ]
    }
   ],
   "source": [
    "cav1 = dp.fock_subspace()\n",
    "psi = dp.ket([1])\n",
    "print(psi)"
   ]
  },
  {
   "cell_type": "markdown",
   "id": "60044e36",
   "metadata": {},
   "source": [
    "In defining the fock space ```cav1``` we have also defined the accompanying operators $a$ and $a^{\\dagger}$ which we access using ```cav1.a``` and ```cav1.adag```. "
   ]
  },
  {
   "cell_type": "code",
   "execution_count": 12,
   "id": "0c6140a1",
   "metadata": {},
   "outputs": [
    {
     "name": "stdout",
     "output_type": "stream",
     "text": [
      "1.4142135623730951 * ket[2]\n",
      "ket[0]\n"
     ]
    }
   ],
   "source": [
    "print (cav1.adag * psi)\n",
    "print (cav.a * psi)"
   ]
  },
  {
   "cell_type": "markdown",
   "id": "652fb282",
   "metadata": {},
   "source": [
    "This example highlights how we are able to define state vectors and state spaces without explicitly giving a list of basis states.\n",
    "\n",
    "Suppose we want to define a second cavity mode. The state space then has two Fock subspaces, and we would write states in the form $\\vert n, m \\rangle$ where we have assigned the first index to the first mode and the second index to the second mode. In diracpy we would define such as system as follows"
   ]
  },
  {
   "cell_type": "markdown",
   "id": "08bd5a2a",
   "metadata": {},
   "source": [
    "Still to cover in overview:\n",
    "\n",
    "- Quantum systems\n",
    "- Dynamics"
   ]
  },
  {
   "cell_type": "markdown",
   "id": "4430e2d9",
   "metadata": {},
   "source": [
    "## qvec's"
   ]
  },
  {
   "cell_type": "markdown",
   "id": "b3c9321b",
   "metadata": {},
   "source": [
    "There are two types of qvec (short for quantum vector) objects used in diracpy, bra's and ket's. These both inherit from the private class qvec that defines some fundamental shared properties. The ket qvec's span the Hilbert space of a quantum system, while bra's span the dual space. In the simplest case, qvec objects are instantiated with a list of indexes that define the quantum state, together with a complex coefficient which defaults to one. \n",
    "\n",
    "In the default case of unity coefficient, the qvecs are therefore normalised to unity. For example, we could define the orthonormal basis states of a two level system as $\\{\\vert g \\rangle, \\vert e \\rangle \\}$."
   ]
  },
  {
   "cell_type": "code",
   "execution_count": 4,
   "id": "409be8f4",
   "metadata": {},
   "outputs": [],
   "source": [
    "down = dp.ket(['g'])\n",
    "up = dp.ket(['e'])"
   ]
  },
  {
   "cell_type": "markdown",
   "id": "5bce9b25",
   "metadata": {},
   "source": [
    "Another property of qvecs is that a superposition of qvecs is also a qvec. So we could define the state\n",
    "$$\n",
    "    \\vert \\psi \\rangle = \\frac{1}{\\sqrt 2} \\left( \\vert g \\rangle + \\vert e \\rangle \\right)\n",
    "$$\n",
    "as"
   ]
  },
  {
   "cell_type": "code",
   "execution_count": 5,
   "id": "4d90af07",
   "metadata": {},
   "outputs": [
    {
     "name": "stdout",
     "output_type": "stream",
     "text": [
      "0.7071067811865475 * ket['g'] + 0.7071067811865475 * ket['e']\n"
     ]
    }
   ],
   "source": [
    "psi = 1/np.sqrt(2) * (down + up)\n",
    "type(psi)\n",
    "print(psi)"
   ]
  },
  {
   "cell_type": "markdown",
   "id": "84f0b95e",
   "metadata": {},
   "source": [
    "Here we see that psi is also a ket (qvec) object. We also see in this example that a ket multiplied by a scalar is also a ket. \n",
    "\n",
    "In fact, kets (and qvecs in general) satisfy all axioms of vector spaces. Associativity and addi"
   ]
  },
  {
   "cell_type": "code",
   "execution_count": 6,
   "id": "bbd90e08",
   "metadata": {},
   "outputs": [
    {
     "name": "stdout",
     "output_type": "stream",
     "text": [
      "True\n",
      "True\n",
      "True\n",
      "True\n"
     ]
    }
   ],
   "source": [
    "u, v, w = dp.ket(['u']), dp.ket(['v']), dp.ket(['w'])\n",
    "zeroket = dp.ket()\n",
    "print((u + v) + w == u + (v + w))\n",
    "print(u + v == v + u)\n",
    "print(u + zeroket == u)\n",
    "print(u + (-u) == zeroket)"
   ]
  },
  {
   "cell_type": "markdown",
   "id": "825b7b26",
   "metadata": {},
   "source": [
    "Under scalar multiplication we inherit the associative and commutative properties of scalars. The ramaining vector space axioms are also satisfied. E.g."
   ]
  },
  {
   "cell_type": "code",
   "execution_count": 7,
   "id": "3c4064bb",
   "metadata": {},
   "outputs": [
    {
     "name": "stdout",
     "output_type": "stream",
     "text": [
      "True\n",
      "True\n",
      "True\n"
     ]
    }
   ],
   "source": [
    "a, b = 2, 3\n",
    "print(1 * u == u)\n",
    "print((a + b) * u == a * u + b * u)\n",
    "print(a * (u + v) == a * u + a * v)"
   ]
  },
  {
   "cell_type": "markdown",
   "id": "cda1da63",
   "metadata": {},
   "source": [
    "All of the above is true for bra qvecs, which we could define explicitly, e.g ```dp.bra(['e'])```, or we could use the conjugate method of any qvec:"
   ]
  },
  {
   "cell_type": "code",
   "execution_count": 8,
   "id": "75d9b12a",
   "metadata": {},
   "outputs": [
    {
     "data": {
      "text/plain": [
       "diracpy.states_operators.bra"
      ]
     },
     "execution_count": 8,
     "metadata": {},
     "output_type": "execute_result"
    }
   ],
   "source": [
    "type(down.conj())"
   ]
  },
  {
   "cell_type": "code",
   "execution_count": 9,
   "id": "44413fb2",
   "metadata": {},
   "outputs": [
    {
     "name": "stdout",
     "output_type": "stream",
     "text": [
      "0.7071067811865475 * bra['g'] + 0.7071067811865475 * bra['e']\n"
     ]
    }
   ],
   "source": [
    "psi_star = 1/np.sqrt(2) * (down.conj() + up.conj())\n",
    "type(psi_star)\n",
    "print(psi_star)"
   ]
  },
  {
   "cell_type": "markdown",
   "id": "fb29f7b0",
   "metadata": {},
   "source": [
    "or most simply,"
   ]
  },
  {
   "cell_type": "code",
   "execution_count": 10,
   "id": "fe058140",
   "metadata": {},
   "outputs": [
    {
     "name": "stdout",
     "output_type": "stream",
     "text": [
      "0.7071067811865475 * bra['g'] + 0.7071067811865475 * bra['e']\n"
     ]
    }
   ],
   "source": [
    "psi_star = psi.conj()\n",
    "type(psi_star)\n",
    "print(psi_star)"
   ]
  },
  {
   "cell_type": "markdown",
   "id": "0c8b469d",
   "metadata": {},
   "source": [
    "### Inner product and normalisation of qvecs"
   ]
  },
  {
   "cell_type": "markdown",
   "id": "bcfd5ddd",
   "metadata": {},
   "source": [
    "Diracpy support the inner product between bra's and ket's in the manner one would expect. E.g. one finds for $\\vert \\psi \\rangle$ defined above,\n",
    "$$\n",
    "    \\langle d \\vert \\psi \\rangle = 1/\\sqrt{2}\n",
    "$$\n",
    "In diracpy we compute the inner product between any bra and any ket in the same way but use the `*` operator:"
   ]
  },
  {
   "cell_type": "code",
   "execution_count": 13,
   "id": "4ef3d649",
   "metadata": {},
   "outputs": [
    {
     "data": {
      "text/plain": [
       "0.7071067811865475"
      ]
     },
     "execution_count": 13,
     "metadata": {},
     "output_type": "execute_result"
    }
   ],
   "source": [
    "down.conj() * psi"
   ]
  },
  {
   "cell_type": "markdown",
   "id": "fc08eafa",
   "metadata": {},
   "source": [
    "The inner product always returns a scalar (formally bra's a linear maps from the vector space onto the relevent scalar field). For orthogonal states this returns zero:"
   ]
  },
  {
   "cell_type": "code",
   "execution_count": 18,
   "id": "463f7469",
   "metadata": {},
   "outputs": [
    {
     "name": "stdout",
     "output_type": "stream",
     "text": [
      "0\n"
     ]
    }
   ],
   "source": [
    "print(down.conj() * up)"
   ]
  },
  {
   "cell_type": "markdown",
   "id": "8d4651dc",
   "metadata": {},
   "source": [
    "When vectors are defined in diracpy they can be defined with or without a scalar multiplier. For example, we could define the vector $\\vert \\phi \\rangle$ with"
   ]
  },
  {
   "cell_type": "code",
   "execution_count": 20,
   "id": "4f8e1fac",
   "metadata": {},
   "outputs": [
    {
     "name": "stdout",
     "output_type": "stream",
     "text": [
      "ket['phi']\n"
     ]
    }
   ],
   "source": [
    "phi = dp.ket(['phi'])\n",
    "print(phi)"
   ]
  },
  {
   "cell_type": "markdown",
   "id": "b15281fd",
   "metadata": {},
   "source": [
    "Alternatively we could define the vector $a \\vert \\phi \\rangle$ for some scalar $a$ e.g for $a=5$,"
   ]
  },
  {
   "cell_type": "code",
   "execution_count": 26,
   "id": "ed453a7e",
   "metadata": {},
   "outputs": [
    {
     "name": "stdout",
     "output_type": "stream",
     "text": [
      "2 * ket['phi']\n"
     ]
    }
   ],
   "source": [
    "psi2 = dp.ket(['phi'],a)\n",
    "print(psi2)"
   ]
  },
  {
   "cell_type": "markdown",
   "id": "e9cadd84",
   "metadata": {},
   "source": [
    "This highlights that qvec's in diracpy may contain a scalar coefficient. Cruicially, this property is what allows us to define superposition states such as $\\vert \\psi \\rangle = \\frac{1}{\\sqrt 2}(\\vert d\\rangle + \\vert u \\rangle)$, which is the seperposition of two kets, each with a scalar multiplier."
   ]
  },
  {
   "cell_type": "code",
   "execution_count": 28,
   "id": "cd0920fa",
   "metadata": {},
   "outputs": [
    {
     "name": "stdout",
     "output_type": "stream",
     "text": [
      "0.7071067811865475 * ket['g'] + 0.7071067811865475 * ket['e']\n"
     ]
    }
   ],
   "source": [
    "print(psi)"
   ]
  },
  {
   "cell_type": "markdown",
   "id": "fde558f2",
   "metadata": {},
   "source": [
    "Diracpy assumes that any ket defined with unity coefficient using either the statements below are normalised:"
   ]
  },
  {
   "cell_type": "code",
   "execution_count": 29,
   "id": "39901278",
   "metadata": {},
   "outputs": [
    {
     "name": "stdout",
     "output_type": "stream",
     "text": [
      "ket['phi']\n",
      "1\n"
     ]
    }
   ],
   "source": [
    "psi = dp.ket(['phi'])\n",
    "print(psi)\n",
    "print(psi.conj() * psi)"
   ]
  },
  {
   "cell_type": "code",
   "execution_count": 30,
   "id": "7b9956ab",
   "metadata": {},
   "outputs": [
    {
     "name": "stdout",
     "output_type": "stream",
     "text": [
      "ket['phi']\n",
      "1\n"
     ]
    }
   ],
   "source": [
    "psi = dp.ket(['phi'],1)\n",
    "print(psi)\n",
    "print(psi.conj() * psi)"
   ]
  },
  {
   "cell_type": "markdown",
   "id": "00a3a97e",
   "metadata": {},
   "source": [
    "Conversely, if the scalar is different from 1 then the state is not normalised, since it assumes the ket with unity coefficient is normalised."
   ]
  },
  {
   "cell_type": "code",
   "execution_count": 31,
   "id": "c47a6f88",
   "metadata": {},
   "outputs": [
    {
     "name": "stdout",
     "output_type": "stream",
     "text": [
      "2 * ket['phi']\n",
      "4\n"
     ]
    }
   ],
   "source": [
    "psi = dp.ket(['phi'],2)\n",
    "print(psi)\n",
    "print(psi.conj() * psi)"
   ]
  },
  {
   "cell_type": "markdown",
   "id": "0cf0ebb1",
   "metadata": {},
   "source": [
    "Furthermore, diracpy assumes that ket's define in this way are basis ket's. As such two ket's defined with different state labels are orthonormal."
   ]
  },
  {
   "cell_type": "code",
   "execution_count": 33,
   "id": "7a4e3dc7",
   "metadata": {},
   "outputs": [
    {
     "name": "stdout",
     "output_type": "stream",
     "text": [
      "0\n"
     ]
    }
   ],
   "source": [
    "phi1 = dp.ket(['phi1'])\n",
    "phi2 = dp.ket(['phi2'])\n",
    "print(phi1.conj() * phi2)"
   ]
  },
  {
   "cell_type": "markdown",
   "id": "bc03fe92",
   "metadata": {},
   "source": [
    "This highlights a sublte difference between kets in quantum mechanics and kets in diracpy. In quantum mechanics it is often assumed that and ket represents a normalised state vector, and any scalar multiplier is expressed explicitly, e.g. the ket $\\vert \\phi \\rangle$ is normalised to unity, but the vector $a \\vert \\phi \\rangle$ has norm of $a^2$. In diracpy, both of these are `ket` objects. In this respect diracpy ket's represent any vector in the Hilbert space, while in quantum mechanics they tend to be reserved for normalised vectors only. However, when we print the ket in diracpy we can easily see which part is the normalised basis ket, and which part is the scalar multiplier. All of this obviously extends to diracpy bra's also."
   ]
  },
  {
   "cell_type": "markdown",
   "id": "6114ecfd",
   "metadata": {},
   "source": [
    "### Outer product"
   ]
  },
  {
   "cell_type": "markdown",
   "id": "12978ed0",
   "metadata": {},
   "source": [
    "We can also define operators using the outer product of a ket and bra. For example we could define the raising operator $\\vert u \\rangle \\langle d \\vert$ as"
   ]
  },
  {
   "cell_type": "code",
   "execution_count": 14,
   "id": "d20f1e1d",
   "metadata": {},
   "outputs": [
    {
     "data": {
      "text/plain": [
       "diracpy.states_operators.qop"
      ]
     },
     "execution_count": 14,
     "metadata": {},
     "output_type": "execute_result"
    }
   ],
   "source": [
    "raise_op = up * down.conj()\n",
    "type(raise_op)"
   ]
  },
  {
   "cell_type": "markdown",
   "id": "7f54c1d3",
   "metadata": {},
   "source": [
    "which is no longer a `bra` or `ket` type object, but a `qop` object which can act to the right on kets or to the left on bras, where for example we expect $\\vert e \\rangle \\langle g \\vert g \\rangle = \\vert e \\rangle $, and $\\langle e \\vert e \\rangle \\langle g \\vert = \\langle g \\vert$."
   ]
  },
  {
   "cell_type": "code",
   "execution_count": 16,
   "id": "e523db31",
   "metadata": {},
   "outputs": [
    {
     "name": "stdout",
     "output_type": "stream",
     "text": [
      "ket['e']\n",
      "bra['g']\n",
      "ket[]\n"
     ]
    }
   ],
   "source": [
    "print(raise_op * down)\n",
    "print(up.conj() * raise_op)\n",
    "print(raise_op * up)"
   ]
  },
  {
   "cell_type": "markdown",
   "id": "0428350d",
   "metadata": {},
   "source": [
    "### Example of a two level system interacting with a classical field"
   ]
  },
  {
   "cell_type": "markdown",
   "id": "15ca02cf",
   "metadata": {},
   "source": [
    "We finish this section with a brief example of how diracpy's bra's and ket's can be used to express the hamiltonian of a two leve system interacting with a classical field. The hamiltonian for this system under the rotating wave approximation in the Schr\\\"odinger picture is\n",
    "$$\n",
    "    H = \\frac12 \\Delta \\left(\\vert e \\rangle \\langle e \\vert - \\vert g \\rangle \\langle g \\vert \\right)\n",
    "    + \\frac{\\Omega}{2} \\left( \\vert e \\rangle \\langle g \\vert + \\vert g \\rangle \\langle e \\vert \\right)\n",
    "$$\n",
    "where $\\Delta = \\omega_0 - \\omega$ is the enegy difference between the two level system's resonant frequency and the field, and $\\Omega$ is the Rabi freqeuency for this interaction (assumed here to be real). In diracpy we code this in a very similar way to which it is written mathematically."
   ]
  },
  {
   "cell_type": "code",
   "execution_count": 2,
   "id": "10460ee6",
   "metadata": {},
   "outputs": [],
   "source": [
    "Delta = 0\n",
    "Omega = 1\n",
    "\n",
    "e = dp.ket(['e'])\n",
    "g = dp.ket(['g'])\n",
    "\n",
    "H = 0.5 * Delta * (e * e.conj() - g * g.conj()) + 0.5 * Omega * (e * g.conj() + g * e.conj())"
   ]
  },
  {
   "cell_type": "markdown",
   "id": "0c83b906",
   "metadata": {},
   "source": [
    "One can easily retrieve the matrix elements of this Hamiltonian:"
   ]
  },
  {
   "cell_type": "code",
   "execution_count": 3,
   "id": "55b98a60",
   "metadata": {},
   "outputs": [
    {
     "data": {
      "text/plain": [
       "0.5"
      ]
     },
     "execution_count": 3,
     "metadata": {},
     "output_type": "execute_result"
    }
   ],
   "source": [
    "e.conj() * H * g"
   ]
  },
  {
   "cell_type": "markdown",
   "id": "f92b5f6d",
   "metadata": {},
   "source": [
    "We will see later how to solve the quantum dynamics once a Hamiltonian such as this is defined"
   ]
  },
  {
   "cell_type": "markdown",
   "id": "00951c11",
   "metadata": {},
   "source": [
    "In the next section we will consider more general ways to define operators in the state space section below."
   ]
  },
  {
   "cell_type": "markdown",
   "id": "2f20f30b",
   "metadata": {},
   "source": [
    "## Linear operators"
   ]
  },
  {
   "cell_type": "markdown",
   "id": "2f15e622",
   "metadata": {},
   "source": [
    "Thus far we have only considered quantum systems that can be defined in terms of bra's and ket's together with their outer products. This is sufficient for small state spaces where we maybe able to define all the neccesary operators of the Hamiltonian explicitly. However, mathematically speaking, for larger state spaces such a limited notation is not practical. Instead, we combine the dirac vectors and dual vectors with linear operators, which we can define in a more abstract way. A good example of this are the bosonic raising or lowering operators on Fock states where\n",
    "$$\n",
    "    a^\\dagger \\vert n \\rangle = \\sqrt{n+1} \\vert n+1 \\rangle,\\quad\n",
    "    a \\vert n \\rangle = \\sqrt{n} \\vert n-1 \\rangle\n",
    "$$\n",
    "which are true given any $n\\geq0$.\n",
    "These would be impractical to define using the outer products, e.g. for $a^\\dagger$ we could need the infinite sum $a^\\dagger = \\vert 1 \\rangle \\langle 0 \\vert + \\sqrt{2} \\vert 2 \\rangle \\langle 1 \\vert + \\dots + \\sqrt{n+1}\\vert n+1 \\rangle \\langle n \\vert + \\dots$, particulary as we know the general pattern given any $n$."
   ]
  },
  {
   "cell_type": "markdown",
   "id": "41006a69",
   "metadata": {},
   "source": [
    "Diracpy allows one to define operators abstractly wherever there exists a well defined mapping of indices and coefficients. For example, $a^\\dagger$ maps the index $n$ onto $n+1$, and the Fock states coefficient $c$ onto $c \\sqrt {n+1}$."
   ]
  },
  {
   "cell_type": "markdown",
   "id": "49a58b64",
   "metadata": {},
   "source": [
    "Explain how operators should be defined using the qop class\n",
    "\n",
    "Explain how diracpy linear operators obey the usual rules expected of them with a few simple examples.\n",
    "\n",
    "Highlight that linear operators do not require us explicitly give the basis (e.g. for the Fock states we never needed to know which Fock states would be considered.)"
   ]
  },
  {
   "cell_type": "markdown",
   "id": "971d4a19",
   "metadata": {},
   "source": [
    "## State spaces"
   ]
  },
  {
   "cell_type": "markdown",
   "id": "110a53b5",
   "metadata": {},
   "source": [
    "It is useful to group together certain states and all the operators that we need that act on these into a state space. Our system as a whole may be the tensor product of several state spaces. This is very natural in dirac notation. For example, consider the Jaynes-Cummings model which has the Hamiltonian\n",
    "$$\n",
    "    H = \\omega a^\\dagger a + \\frac{\\omega_0}{2} \\sigma_z \n",
    "    + g \\left( a^\\dagger \\sigma_- + a \\sigma_+ \\right).\n",
    "$$\n",
    "The Hilbert space for this model is the tensor product space of the two level system, $\\{ \\vert g \\rangle, \\vert e \\rangle \\}$, and the Fock space of the cavity, $\\{ \\vert n \\rangle \\vert \\forall n \\in \\mathbb Z_+ \\}$, i.e. $\\mathscr H = \\{\\vert x, n \\rangle\\vert x \\in \\{e,g\\}, n \\in \\mathbb N\\}$."
   ]
  },
  {
   "cell_type": "markdown",
   "id": "55672e22",
   "metadata": {},
   "source": [
    "In diracpy we can create state spaces together with the set of operators that act on them. This is done using the any of the classes in `subspaces.py` which inherit from the `subspace` class. In this example the states spaces are that of a two level system (e.g. spin half particle) together with the three operators $\\sigma_z, \\sigma_+$ and $\\sigma_-$ which is one choice of the complete set of operators that act on this space. Users can also define their own subspace classes.\n",
    "\n",
    "The advantage of defining state spaces rather than simply using the `bra`'s and `ket`'s discussed above is that we can define operators, such as the Hamiltonian, without needing to explicitly define the basis. We will see further below that we can solve the dynamics under such operators in a much more generalisable.\n",
    "\n",
    "The key principle of subspaces in diracpy is to define the index used to identify states in this subspace, and to define how the relevent operators act on this index. The index principle of the subspace is exaclty that used when we write down bra's and ket's mathematically. Suppose we have some hilbert space formed by the tensor product of $n$ factor spaces (e.g. a spin half, a Fock space of frequency $\\omega_1$, another of frequency $\\omega_2$,...), then we would write ket's like this\n",
    "$$\n",
    "    \\vert \\phi_1, \\phi_2, \\dots \\phi_n \\rangle.\n",
    "$$\n",
    "We know which index $\\phi_i$ corresponds to which factor space. We make this decision when we first write the states vectors, and once chosen, we must keep to this notation throughout. The same is true in diracpy. We need to define which index corresponds to the subspace we are creating.\n",
    "\n",
    "The operators (`qop` objects) that act on this subspace simply maps the value of this index into a new value and multiply the state by any appropriate factor. In fact, a python function that defines this map is all that is needed to instantiate a `qop` object. This can be defined explicitly or a little more abstractly. For the `two_level_subspace` subspace class we define the subspace explicitly for example, while for the `fock_subspace` class we avoid listing the infinite possible kets by defining it more abstractly."
   ]
  },
  {
   "cell_type": "markdown",
   "id": "cc64a463",
   "metadata": {},
   "source": [
    "### The two level system subspace class: `two_level_subspace`"
   ]
  },
  {
   "cell_type": "markdown",
   "id": "35db83bf",
   "metadata": {},
   "source": [
    "For example, for the two level system (`two_level_subspace` class in `subspaces.py`) we explicitly define the state labels `g` and `e`, then define the action e.g. for the $\\sigma_z$ operator the leve the index unchanged but multiply ket's by $1/2$ if in state `e` and $-1/2$ if in state `g`. The sigma_plus operator just changes the index value `g` to `e`, or returns an the zero ket if the index value was `e`. The sigma_minus operator has the opposite action.\n",
    "\n",
    "Here's an example of the `two_level_subspace`, which is defined as the space spanned by $\\{ \\vert g \\rangle, \\vert e \\rangle \\}$ and has the operators $\\sigma_z, \\sigma_+$ and $\\sigma_-$ as the attributes `sigma_z`, `sigma_plus` and `sigma_minus`."
   ]
  },
  {
   "cell_type": "code",
   "execution_count": 8,
   "id": "c7278fda",
   "metadata": {},
   "outputs": [
    {
     "name": "stdout",
     "output_type": "stream",
     "text": [
      "-0.5 * ket['g']\n",
      "ket['e']\n",
      "ket['g']\n"
     ]
    }
   ],
   "source": [
    "atom1 = dp.two_level_subspace()\n",
    "\n",
    "print(atom1.sigma_z * dp.ket('g'))\n",
    "print(atom1.sigma_plus * dp.ket('g'))\n",
    "print(atom1.sigma_minus * dp.ket('e'))"
   ]
  },
  {
   "cell_type": "markdown",
   "id": "f69463fe",
   "metadata": {},
   "source": [
    "Note that here that no index was given on instanciation of the `atom1` subspace object. In this case the index defaults to 0, and hence the `atom1` operators act on the zeroth index of the ket. The index is given as an attribute of the object."
   ]
  },
  {
   "cell_type": "code",
   "execution_count": 13,
   "id": "af45bf32",
   "metadata": {},
   "outputs": [
    {
     "data": {
      "text/plain": [
       "0"
      ]
     },
     "execution_count": 13,
     "metadata": {},
     "output_type": "execute_result"
    }
   ],
   "source": [
    "atom1.index"
   ]
  },
  {
   "cell_type": "markdown",
   "id": "3825b5fd",
   "metadata": {},
   "source": [
    "For any diracpy operator (`qop`) object the conjugate of the operator is also defined. When an operator is defined, if no specific conjugate action is given then it is assumed the operator is Hermitian, and so its Hermitian conjugate acts in exactly the same way. \n",
    "\n",
    "The operators in the example above are defined in the subspace class `two_level_subspace`. For the `sigma_z`, no conjugate action is given since it should be a Hermitian operator. For `sigma_plus`, the action function of `sigma_minus` is given as its conjugate action. Here is the snippet of code from the class definition that does this:\n",
    "\n",
    "```\n",
    "        self.sigma_z = qop(self.sigma_z_action)\n",
    "        self.sigma_plus = qop(self.sigma_plus_action, self.sigma_minus_action)\n",
    "        self.sigma_minus = qop(self.sigma_minus_action, self.sigma_plus_action)\n",
    "```\n",
    "Here is an example of how the conjugate operators can be applied:"
   ]
  },
  {
   "cell_type": "code",
   "execution_count": 12,
   "id": "bc1896cc",
   "metadata": {},
   "outputs": [
    {
     "name": "stdout",
     "output_type": "stream",
     "text": [
      "-0.5 * ket['g']\n",
      "ket['g']\n",
      "ket['e']\n"
     ]
    }
   ],
   "source": [
    "print(atom1.sigma_z.conj() * dp.ket('g'))\n",
    "print(atom1.sigma_plus.conj() * dp.ket('e'))\n",
    "print(atom1.sigma_minus.conj() * dp.ket('g'))"
   ]
  },
  {
   "cell_type": "markdown",
   "id": "5fa1f003",
   "metadata": {},
   "source": [
    "An operators $O$ in diracpy also act on diracpy `bra` objects in a consistent with the action of their Hermitian conjugate $O^\\dagger$ i.e. $\\langle \\psi \\vert O = \\left( O^\\dagger \\vert \\psi \\rangle \\right)^\\dagger$."
   ]
  },
  {
   "cell_type": "code",
   "execution_count": 10,
   "id": "d6a5bedc",
   "metadata": {},
   "outputs": [
    {
     "name": "stdout",
     "output_type": "stream",
     "text": [
      "bra['e']\n"
     ]
    }
   ],
   "source": [
    "print(dp.bra('g') * atom1.sigma_minus)"
   ]
  },
  {
   "cell_type": "markdown",
   "id": "6ff80b9d",
   "metadata": {},
   "source": [
    "### The Fock subspace class: `fock_subspace`"
   ]
  },
  {
   "cell_type": "markdown",
   "id": "d5b98556",
   "metadata": {},
   "source": [
    "For Fock subspace we do not define explicitly a list of values for the Fock subspaces index, but simply assume that it should be an integer. The map used to define operators on Fock states are very simply a rule of how to change the index value `n` together with any scalar coefficient of the output state. Thus, once we create a Fock space we can use its operators to act on a Fock state with any integer value of the index `n`.\n"
   ]
  },
  {
   "cell_type": "code",
   "execution_count": 22,
   "id": "096ac4f0",
   "metadata": {},
   "outputs": [
    {
     "name": "stdout",
     "output_type": "stream",
     "text": [
      "1.4142135623730951 * ket[1]\n",
      "3.3166247903554 * ket[11]\n",
      "31.416556144810016 * ket[986]\n",
      "500.00000000000006 * ket[500]\n"
     ]
    }
   ],
   "source": [
    "fock = dp.fock_subspace()\n",
    "\n",
    "print(fock.a * dp.ket([2]))\n",
    "print(fock.adag * dp.ket([10]))\n",
    "print(fock.a * dp.ket([987]))\n",
    "print(fock.adag * fock.a * dp.ket([500]))"
   ]
  },
  {
   "cell_type": "markdown",
   "id": "428f83d6",
   "metadata": {},
   "source": [
    "### Tensor product spaces - specifying indices."
   ]
  },
  {
   "cell_type": "markdown",
   "id": "cb069460",
   "metadata": {},
   "source": [
    "To create tensor product spaces we create each factor space using its subspace class, ensuring that we supply an index for each subspace. For example we could create the tensor product space for two spin half particles:"
   ]
  },
  {
   "cell_type": "code",
   "execution_count": 24,
   "id": "94c25064",
   "metadata": {},
   "outputs": [
    {
     "name": "stdout",
     "output_type": "stream",
     "text": [
      "0.5 * ket['e', 'g']\n",
      "-0.5 * ket['e', 'g']\n"
     ]
    }
   ],
   "source": [
    "particle1 = dp.two_level_subspace(index=0)\n",
    "particle2 = dp.two_level_subspace(index=1)\n",
    "\n",
    "psi = dp.ket(['e','g'])\n",
    "\n",
    "print(particle1.sigma_z * psi)\n",
    "print(particle2.sigma_z * psi)"
   ]
  },
  {
   "cell_type": "markdown",
   "id": "85db6a56",
   "metadata": {},
   "source": [
    "The given index inputs specify that particle1 operators act on the first index of any `ket`, while the particle2 operators act on the second index of any `ket`."
   ]
  },
  {
   "cell_type": "markdown",
   "id": "5a188fc1",
   "metadata": {},
   "source": [
    "For the Jaynes-Cummings model we need product space of a spin-half and a Fock space:"
   ]
  },
  {
   "cell_type": "code",
   "execution_count": 26,
   "id": "6ab033d9",
   "metadata": {},
   "outputs": [
    {
     "name": "stdout",
     "output_type": "stream",
     "text": [
      "ket['e', 0]\n"
     ]
    }
   ],
   "source": [
    "atom = dp.two_level_subspace(index=0)\n",
    "cavity = dp.fock_subspace(index=1)\n",
    "\n",
    "psi = dp.ket(['g',1])\n",
    "\n",
    "print(atom.sigma_plus * cavity.a * psi)"
   ]
  },
  {
   "cell_type": "markdown",
   "id": "f586e8b3",
   "metadata": {},
   "source": [
    "## Jaynes-Cummings model Hamiltonian\n",
    "\n",
    "We are now ready to bring together the key points of this tutorial, which we do through an example. We use diracpy to code the Jaynes-Cummings Hamiltonian,\n",
    "\\begin{align}\n",
    "    H &= H_0 +V \\\\\n",
    "    H_0 &= \\omega a^\\dagger a + \\frac{\\omega_0}{2} \\sigma_z \\\\\n",
    "    V &= g \\left( a^\\dagger \\sigma_- + a \\sigma_+ \\right)\n",
    "\\end{align}\n",
    "For the Hamiltonian, we will need define the two factor spaces, $\\{\\vert g \\rangle, \\vert e\\rangle \\}$ using `two_level_subspace`, and $\\{ \\vert n \\rangle \\}_{n\\in\\mathbb Z_+}$ using `fock_subspace`. If we want our ket's to be labelled with indices appearing in order $\\vert \\text{atom-state}, \\text{photon-number} \\rangle$ then we will create these factor spaces indices `0` and `1` respectively:"
   ]
  },
  {
   "cell_type": "code",
   "execution_count": 3,
   "id": "44a0d7f3",
   "metadata": {},
   "outputs": [],
   "source": [
    "# Define factor spaces\n",
    "atom = dp.two_level_subspace(index=0)\n",
    "cavity = dp.fock_subspace(index=1)\n",
    "\n",
    "# define model parameters\n",
    "omega = 1\n",
    "omega_0= 1\n",
    "g = 1\n",
    "\n",
    "# define Hamiltonian\n",
    "H_0 = omega * cavity.adag * cavity.a + (omega_0 / 2) * atom.sigma_z\n",
    "V = g * (cavity.adag * atom.sigma_minus + cavity.a * atom.sigma_plus)\n",
    "\n",
    "H = H_0 + V"
   ]
  },
  {
   "cell_type": "markdown",
   "id": "9a8630b4",
   "metadata": {},
   "source": [
    "Notice how similar the python code and mathematical expressions are. In the next tutorial we will show how to solve the quantum dynamics for this Hamiltonian using a variety of methods built into diracpy.\n",
    "\n",
    "We finish this tutorial with a neat example of how we can find a closed subspace using this Hamiltonian `H` defined above. Let $\\mathscr H$ be the full Hilbert space, which in this case is spanned by $\\{ \\vert e,n \\rangle, \\vert g,n\\rangle \\}_{n\\in \\mathbb Z_+}$. Recall that a closed subspace $\\mathscr H_A$ under an operator $A$ where for any vector $\\vert \\psi \\rangle \\in \\mathscr H_A \\subset \\mathscr H$, then $A \\vert \\psi \\rangle \\in \\mathscr H_A$ also.\n",
    "\n",
    "Next, to find closed subspaces, let us pick an initial state e.g. $\\vert \\psi \\rangle = \\vert e,5 \\rangle$ and act on it with the Hamiltonian, to see what new state we get,\n",
    "$$\n",
    "    \\vert \\psi' \\rangle = H \\vert \\psi \\rangle.\n",
    "$$\n",
    "If we then act on $\\vert \\psi' \\rangle$ with $H$ again to see if we get another new state $\\vert \\psi'' \\rangle$. If we find $\\vert \\psi'' \\rangle = \\vert \\psi \\rangle$ then we have found a close set of states $\\{\\vert \\psi \\rangle, \\vert \\psi' \\rangle \\}$. If not, then we keep going until we find a closed set (if it exists). In diracpy:"
   ]
  },
  {
   "cell_type": "code",
   "execution_count": 8,
   "id": "c68a513e",
   "metadata": {},
   "outputs": [
    {
     "ename": "TypeError",
     "evalue": "unsupported operand type(s) for /: 'ket' and 'float'",
     "output_type": "error",
     "traceback": [
      "\u001b[0;31m---------------------------------------------------------------------------\u001b[0m",
      "\u001b[0;31mTypeError\u001b[0m                                 Traceback (most recent call last)",
      "Cell \u001b[0;32mIn[8], line 6\u001b[0m\n\u001b[1;32m      3\u001b[0m psi_p \u001b[38;5;241m=\u001b[39m H \u001b[38;5;241m*\u001b[39m psi\n\u001b[1;32m      5\u001b[0m psi_new \u001b[38;5;241m=\u001b[39m psi_p \u001b[38;5;241m-\u001b[39m psi \u001b[38;5;241m*\u001b[39m psi\u001b[38;5;241m.\u001b[39mconj() \u001b[38;5;241m*\u001b[39mpsi_p\n\u001b[0;32m----> 6\u001b[0m psi_new \u001b[38;5;241m=\u001b[39m \u001b[43mpsi_new\u001b[49m\u001b[43m \u001b[49m\u001b[38;5;241;43m/\u001b[39;49m\u001b[43m \u001b[49m\u001b[43mnp\u001b[49m\u001b[38;5;241;43m.\u001b[39;49m\u001b[43msqrt\u001b[49m\u001b[43m(\u001b[49m\u001b[43mpsi_new\u001b[49m\u001b[38;5;241;43m.\u001b[39;49m\u001b[43mconj\u001b[49m\u001b[43m(\u001b[49m\u001b[43m)\u001b[49m\u001b[43m \u001b[49m\u001b[38;5;241;43m*\u001b[39;49m\u001b[43m \u001b[49m\u001b[43mpsi_new\u001b[49m\u001b[43m)\u001b[49m\n\u001b[1;32m      7\u001b[0m \u001b[38;5;28mprint\u001b[39m(psi_new)\n",
      "\u001b[0;31mTypeError\u001b[0m: unsupported operand type(s) for /: 'ket' and 'float'"
     ]
    }
   ],
   "source": [
    "psi = dp.ket(['e',5])\n",
    "\n",
    "psi_p = H * psi\n",
    "\n",
    "psi_new = psi_p - psi * psi.conj() *psi_p\n",
    "psi_new = psi_new / np.sqrt(psi_new.conj() * psi_new)\n",
    "print(psi_new)\n",
    "\n",
    "# psi_pp = H * psi_p\n",
    "\n",
    "# print(psi)\n",
    "# print(psi_p)\n",
    "# print(psi_pp)"
   ]
  },
  {
   "cell_type": "code",
   "execution_count": 15,
   "id": "d017402e",
   "metadata": {},
   "outputs": [
    {
     "name": "stdout",
     "output_type": "stream",
     "text": [
      "1.224744871391589 * ket['g', 6]\n"
     ]
    }
   ],
   "source": [
    "print(psi_new.__div__(2.))"
   ]
  },
  {
   "cell_type": "code",
   "execution_count": 16,
   "id": "c169d094",
   "metadata": {},
   "outputs": [
    {
     "ename": "TypeError",
     "evalue": "unsupported operand type(s) for /: 'qop' and 'int'",
     "output_type": "error",
     "traceback": [
      "\u001b[0;31m---------------------------------------------------------------------------\u001b[0m",
      "\u001b[0;31mTypeError\u001b[0m                                 Traceback (most recent call last)",
      "Cell \u001b[0;32mIn[16], line 1\u001b[0m\n\u001b[0;32m----> 1\u001b[0m \u001b[43mH\u001b[49m\u001b[43m \u001b[49m\u001b[38;5;241;43m/\u001b[39;49m\u001b[43m \u001b[49m\u001b[38;5;241;43m2\u001b[39;49m\n",
      "\u001b[0;31mTypeError\u001b[0m: unsupported operand type(s) for /: 'qop' and 'int'"
     ]
    }
   ],
   "source": [
    "H / 2"
   ]
  },
  {
   "cell_type": "code",
   "execution_count": null,
   "id": "897f5bce",
   "metadata": {},
   "outputs": [],
   "source": []
  }
 ],
 "metadata": {
  "kernelspec": {
   "display_name": "Python 3 (ipykernel)",
   "language": "python",
   "name": "python3"
  },
  "language_info": {
   "codemirror_mode": {
    "name": "ipython",
    "version": 3
   },
   "file_extension": ".py",
   "mimetype": "text/x-python",
   "name": "python",
   "nbconvert_exporter": "python",
   "pygments_lexer": "ipython3",
   "version": "3.8.16"
  }
 },
 "nbformat": 4,
 "nbformat_minor": 5
}
