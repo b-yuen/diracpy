{
 "cells": [
  {
   "cell_type": "markdown",
   "id": "2b69e6c4",
   "metadata": {},
   "source": [
    "# DiracPy Tutorial"
   ]
  },
  {
   "cell_type": "code",
   "execution_count": 1,
   "id": "54c3d011",
   "metadata": {},
   "outputs": [],
   "source": [
    "import diracpy as dp\n",
    "import numpy as np"
   ]
  },
  {
   "cell_type": "markdown",
   "id": "7d4de8b2",
   "metadata": {},
   "source": [
    "## A Brief Overview\n",
    "\n",
    "Diracpy is a python package that allows one to rapdily build and execute quantum models by coding them directly in a syntax that resembles dirac notation. For example, to define the Hamiltonian\n",
    "$$\n",
    "    H_0 = \\hbar \\omega a^{\\dagger}a\n",
    "$$\n",
    "where $a$ and $a^{\\dagger}$ are bosonic creation and annihilation operators associated with a cavity mode\n",
    "we can right code such as\n",
    "```\n",
    "    H_0 = hbar * omega * cav.adag * cav.a\n",
    "```\n",
    "which obeys exactly the same mathematical operations as one would expect. Suppose that we the action of this state vector such as $\\vert n \\rangle$, i.e.\n",
    "$$\n",
    "    H_0 \\vert \\psi \\rangle = \\hbar \\omega a^{\\dagger} a \\vert n \\rangle,\n",
    "$$\n",
    "then we simply define the Fock state $\\vert n \\rangle$ using ```dp.ket(n)``` with variable ```n``` and act on this with the ```H_0``` we defined above, i.e.\n",
    "```\n",
    "    H_0 * dp.ket(n)\n",
    "```\n",
    "\n",
    "All the rules of state vectors (ket's), dual vectors (bra's) and linear operators are encoded into diracpy. This allows one to define operators abstractly without rather than dealing directly with matrices which require a predefined basis. The advantage is that the sytem can be coded in a very straightforward manner. For example ..."
   ]
  },
  {
   "cell_type": "markdown",
   "id": "41937d35",
   "metadata": {},
   "source": [
    "When we write a state vector, we inherently decide what the indices mean, and how operators act on such state vectors. For example, the we know that the Fock state $\\vert n \\rangle$ is represented by the photon number $n$ and that the creation and annihlation operators have the actions $a \\vert n \\rangle = \\sqrt{n} \\vert n-1 \\rangle$, $a^\\dagger \\vert n \\rangle = \\sqrt{n+1} \\vert n+1 \\rangle$.\n",
    "\n",
    "In diracpy, we define a the fock space for example by creating the fock space object\n",
    "```\n",
    "    cav1 = dp.fock_subspace(index = 0)\n",
    "```\n",
    "which asigns the first index of any subsequent state vector to this Fock space, which we have called cav1. Thus we could now define the single photon ket $\\vert 1 \\rangle$ using\n",
    "```\n",
    "    dp.ket([1])\n",
    "```"
   ]
  },
  {
   "cell_type": "code",
   "execution_count": 11,
   "id": "78773cf0",
   "metadata": {},
   "outputs": [
    {
     "name": "stdout",
     "output_type": "stream",
     "text": [
      "ket[1]\n"
     ]
    }
   ],
   "source": [
    "cav1 = dp.fock_subspace()\n",
    "psi = dp.ket([1])\n",
    "print(psi)"
   ]
  },
  {
   "cell_type": "markdown",
   "id": "60044e36",
   "metadata": {},
   "source": [
    "In defining the fock space ```cav1``` we have also defined the accompanying operators $a$ and $a^{\\dagger}$ which we access using ```cav1.a``` and ```cav1.adag```. "
   ]
  },
  {
   "cell_type": "code",
   "execution_count": 12,
   "id": "0c6140a1",
   "metadata": {},
   "outputs": [
    {
     "name": "stdout",
     "output_type": "stream",
     "text": [
      "1.4142135623730951 * ket[2]\n",
      "ket[0]\n"
     ]
    }
   ],
   "source": [
    "print (cav1.adag * psi)\n",
    "print (cav.a * psi)"
   ]
  },
  {
   "cell_type": "markdown",
   "id": "652fb282",
   "metadata": {},
   "source": [
    "This example highlights how we are able to define state vectors and state spaces without explicitly giving a list of basis states.\n",
    "\n",
    "Suppose we want to define a second cavity mode. The state space then has two Fock subspaces, and we would write states in the form $\\vert n, m \\rangle$ where we have assigned the first index to the first mode and the second index to the second mode. In diracpy we would define such as system as follows"
   ]
  },
  {
   "cell_type": "markdown",
   "id": "08bd5a2a",
   "metadata": {},
   "source": [
    "Still to cover in overview:\n",
    "\n",
    "- Quantum systems\n",
    "- Dynamics"
   ]
  },
  {
   "cell_type": "markdown",
   "id": "4430e2d9",
   "metadata": {},
   "source": [
    "## qvec's"
   ]
  },
  {
   "cell_type": "markdown",
   "id": "b3c9321b",
   "metadata": {},
   "source": [
    "There are two types of qvec (short for quantum vector) objects used in diracpy, bra's and ket's. These both inherit from the private class qvec that defines some fundamental shared properties. The ket qvec's span the Hilbert space of a quantum system, while bra's span the dual space. In the simplest case, qvec objects are instantiated with a list of indexes that define the quantum state, together with a complex coefficient which defaults to one. \n",
    "\n",
    "In the default case of unity coefficient, the qvecs are therefore normalised to unity. For example, we could define the orthonormal basis states of a two level system as $\\{\\vert g \\rangle, \\vert e \\rangle \\}$."
   ]
  },
  {
   "cell_type": "code",
   "execution_count": 4,
   "id": "409be8f4",
   "metadata": {},
   "outputs": [],
   "source": [
    "down = dp.ket(['g'])\n",
    "up = dp.ket(['e'])"
   ]
  },
  {
   "cell_type": "markdown",
   "id": "5bce9b25",
   "metadata": {},
   "source": [
    "Another property of qvecs is that a superposition of qvecs is also a qvec. So we could define the state\n",
    "$$\n",
    "    \\vert \\psi \\rangle = \\frac{1}{\\sqrt 2} \\left( \\vert g \\rangle + \\vert e \\rangle \\right)\n",
    "$$\n",
    "as"
   ]
  },
  {
   "cell_type": "code",
   "execution_count": 5,
   "id": "4d90af07",
   "metadata": {},
   "outputs": [
    {
     "name": "stdout",
     "output_type": "stream",
     "text": [
      "0.7071067811865475 * ket['g'] + 0.7071067811865475 * ket['e']\n"
     ]
    }
   ],
   "source": [
    "psi = 1/np.sqrt(2) * (down + up)\n",
    "type(psi)\n",
    "print(psi)"
   ]
  },
  {
   "cell_type": "markdown",
   "id": "84f0b95e",
   "metadata": {},
   "source": [
    "Here we see that psi is also a ket (qvec) object. We also see in this example that a ket multiplied by a scalar is also a ket. \n",
    "\n",
    "In fact, kets (and qvecs in general) satisfy all axioms of vector spaces. Associativity and addi"
   ]
  },
  {
   "cell_type": "code",
   "execution_count": 6,
   "id": "bbd90e08",
   "metadata": {},
   "outputs": [
    {
     "name": "stdout",
     "output_type": "stream",
     "text": [
      "True\n",
      "True\n",
      "True\n",
      "True\n"
     ]
    }
   ],
   "source": [
    "u, v, w = dp.ket(['u']), dp.ket(['v']), dp.ket(['w'])\n",
    "zeroket = dp.ket()\n",
    "print((u + v) + w == u + (v + w))\n",
    "print(u + v == v + u)\n",
    "print(u + zeroket == u)\n",
    "print(u + (-u) == zeroket)"
   ]
  },
  {
   "cell_type": "markdown",
   "id": "825b7b26",
   "metadata": {},
   "source": [
    "Under scalar multiplication we inherit the associative and commutative properties of scalars. The ramaining vector space axioms are also satisfied. E.g."
   ]
  },
  {
   "cell_type": "code",
   "execution_count": 7,
   "id": "3c4064bb",
   "metadata": {},
   "outputs": [
    {
     "name": "stdout",
     "output_type": "stream",
     "text": [
      "True\n",
      "True\n",
      "True\n"
     ]
    }
   ],
   "source": [
    "a, b = 2, 3\n",
    "print(1 * u == u)\n",
    "print((a + b) * u == a * u + b * u)\n",
    "print(a * (u + v) == a * u + a * v)"
   ]
  },
  {
   "cell_type": "markdown",
   "id": "cda1da63",
   "metadata": {},
   "source": [
    "All of the above is true for bra qvecs, which we could define explicitly, e.g ```dp.bra(['e'])```, or we could use the conjugate method of any qvec:"
   ]
  },
  {
   "cell_type": "code",
   "execution_count": 8,
   "id": "75d9b12a",
   "metadata": {},
   "outputs": [
    {
     "data": {
      "text/plain": [
       "diracpy.states_operators.bra"
      ]
     },
     "execution_count": 8,
     "metadata": {},
     "output_type": "execute_result"
    }
   ],
   "source": [
    "type(down.conj())"
   ]
  },
  {
   "cell_type": "code",
   "execution_count": 9,
   "id": "44413fb2",
   "metadata": {},
   "outputs": [
    {
     "name": "stdout",
     "output_type": "stream",
     "text": [
      "0.7071067811865475 * bra['g'] + 0.7071067811865475 * bra['e']\n"
     ]
    }
   ],
   "source": [
    "psi_star = 1/np.sqrt(2) * (down.conj() + up.conj())\n",
    "type(psi_star)\n",
    "print(psi_star)"
   ]
  },
  {
   "cell_type": "markdown",
   "id": "fb29f7b0",
   "metadata": {},
   "source": [
    "or most simply,"
   ]
  },
  {
   "cell_type": "code",
   "execution_count": 10,
   "id": "fe058140",
   "metadata": {},
   "outputs": [
    {
     "name": "stdout",
     "output_type": "stream",
     "text": [
      "0.7071067811865475 * bra['g'] + 0.7071067811865475 * bra['e']\n"
     ]
    }
   ],
   "source": [
    "psi_star = psi.conj()\n",
    "type(psi_star)\n",
    "print(psi_star)"
   ]
  },
  {
   "cell_type": "markdown",
   "id": "0c8b469d",
   "metadata": {},
   "source": [
    "### Inner product and normalisation of qvecs"
   ]
  },
  {
   "cell_type": "markdown",
   "id": "bcfd5ddd",
   "metadata": {},
   "source": [
    "Diracpy support the inner product between bra's and ket's in the manner one would expect. E.g. one finds for $\\vert \\psi \\rangle$ defined above,\n",
    "$$\n",
    "    \\langle d \\vert \\psi \\rangle = 1/\\sqrt{2}\n",
    "$$\n",
    "In diracpy we compute the inner product between any bra and any ket in the same way but use the `*` operator:"
   ]
  },
  {
   "cell_type": "code",
   "execution_count": 13,
   "id": "4ef3d649",
   "metadata": {},
   "outputs": [
    {
     "data": {
      "text/plain": [
       "0.7071067811865475"
      ]
     },
     "execution_count": 13,
     "metadata": {},
     "output_type": "execute_result"
    }
   ],
   "source": [
    "down.conj() * psi"
   ]
  },
  {
   "cell_type": "markdown",
   "id": "fc08eafa",
   "metadata": {},
   "source": [
    "The inner product always returns a scalar (formally bra's a linear maps from the vector space onto the relevent scalar field). For orthogonal states this returns zero:"
   ]
  },
  {
   "cell_type": "code",
   "execution_count": 18,
   "id": "463f7469",
   "metadata": {},
   "outputs": [
    {
     "name": "stdout",
     "output_type": "stream",
     "text": [
      "0\n"
     ]
    }
   ],
   "source": [
    "print(down.conj() * up)"
   ]
  },
  {
   "cell_type": "markdown",
   "id": "8d4651dc",
   "metadata": {},
   "source": [
    "When vectors are defined in diracpy they can be defined with or without a scalar multiplier. For example, we could define the vector $\\vert \\phi \\rangle$ with"
   ]
  },
  {
   "cell_type": "code",
   "execution_count": 20,
   "id": "4f8e1fac",
   "metadata": {},
   "outputs": [
    {
     "name": "stdout",
     "output_type": "stream",
     "text": [
      "ket['phi']\n"
     ]
    }
   ],
   "source": [
    "phi = dp.ket(['phi'])\n",
    "print(phi)"
   ]
  },
  {
   "cell_type": "markdown",
   "id": "b15281fd",
   "metadata": {},
   "source": [
    "Alternatively we could define the vector $a \\vert \\phi \\rangle$ for some scalar $a$ e.g for $a=5$,"
   ]
  },
  {
   "cell_type": "code",
   "execution_count": 26,
   "id": "ed453a7e",
   "metadata": {},
   "outputs": [
    {
     "name": "stdout",
     "output_type": "stream",
     "text": [
      "2 * ket['phi']\n"
     ]
    }
   ],
   "source": [
    "psi2 = dp.ket(['phi'],a)\n",
    "print(psi2)"
   ]
  },
  {
   "cell_type": "markdown",
   "id": "e9cadd84",
   "metadata": {},
   "source": [
    "This highlights that qvec's in diracpy may contain a scalar coefficient. Cruicially, this property is what allows us to define superposition states such as $\\vert \\psi \\rangle = \\frac{1}{\\sqrt 2}(\\vert d\\rangle + \\vert u \\rangle)$, which is the seperposition of two kets, each with a scalar multiplier."
   ]
  },
  {
   "cell_type": "code",
   "execution_count": 28,
   "id": "cd0920fa",
   "metadata": {},
   "outputs": [
    {
     "name": "stdout",
     "output_type": "stream",
     "text": [
      "0.7071067811865475 * ket['g'] + 0.7071067811865475 * ket['e']\n"
     ]
    }
   ],
   "source": [
    "print(psi)"
   ]
  },
  {
   "cell_type": "markdown",
   "id": "fde558f2",
   "metadata": {},
   "source": [
    "Diracpy assumes that any ket defined with unity coefficient using either the statements below are normalised:"
   ]
  },
  {
   "cell_type": "code",
   "execution_count": 29,
   "id": "39901278",
   "metadata": {},
   "outputs": [
    {
     "name": "stdout",
     "output_type": "stream",
     "text": [
      "ket['phi']\n",
      "1\n"
     ]
    }
   ],
   "source": [
    "psi = dp.ket(['phi'])\n",
    "print(psi)\n",
    "print(psi.conj() * psi)"
   ]
  },
  {
   "cell_type": "code",
   "execution_count": 30,
   "id": "7b9956ab",
   "metadata": {},
   "outputs": [
    {
     "name": "stdout",
     "output_type": "stream",
     "text": [
      "ket['phi']\n",
      "1\n"
     ]
    }
   ],
   "source": [
    "psi = dp.ket(['phi'],1)\n",
    "print(psi)\n",
    "print(psi.conj() * psi)"
   ]
  },
  {
   "cell_type": "markdown",
   "id": "00a3a97e",
   "metadata": {},
   "source": [
    "Conversely, if the scalar is different from 1 then the state is not normalised, since it assumes the ket with unity coefficient is normalised."
   ]
  },
  {
   "cell_type": "code",
   "execution_count": 31,
   "id": "c47a6f88",
   "metadata": {},
   "outputs": [
    {
     "name": "stdout",
     "output_type": "stream",
     "text": [
      "2 * ket['phi']\n",
      "4\n"
     ]
    }
   ],
   "source": [
    "psi = dp.ket(['phi'],2)\n",
    "print(psi)\n",
    "print(psi.conj() * psi)"
   ]
  },
  {
   "cell_type": "markdown",
   "id": "0cf0ebb1",
   "metadata": {},
   "source": [
    "Furthermore, diracpy assumes that ket's define in this way are basis ket's. As such two ket's defined with different state labels are orthonormal."
   ]
  },
  {
   "cell_type": "code",
   "execution_count": 33,
   "id": "7a4e3dc7",
   "metadata": {},
   "outputs": [
    {
     "name": "stdout",
     "output_type": "stream",
     "text": [
      "0\n"
     ]
    }
   ],
   "source": [
    "phi1 = dp.ket(['phi1'])\n",
    "phi2 = dp.ket(['phi2'])\n",
    "print(phi1.conj() * phi2)"
   ]
  },
  {
   "cell_type": "markdown",
   "id": "bc03fe92",
   "metadata": {},
   "source": [
    "This highlights a sublte difference between kets in quantum mechanics and kets in diracpy. In quantum mechanics it is often assumed that and ket represents a normalised state vector, and any scalar multiplier is expressed explicitly, e.g. the ket $\\vert \\phi \\rangle$ is normalised to unity, but the vector $a \\vert \\phi \\rangle$ has norm of $a^2$. In diracpy, both of these are `ket` objects. In this respect diracpy ket's represent any vector in the Hilbert space, while in quantum mechanics they tend to be reserved for normalised vectors only. However, when we print the ket in diracpy we can easily see which part is the normalised basis ket, and which part is the scalar multiplier. All of this obviously extends to diracpy bra's also."
   ]
  },
  {
   "cell_type": "markdown",
   "id": "6114ecfd",
   "metadata": {},
   "source": [
    "### Outer product"
   ]
  },
  {
   "cell_type": "markdown",
   "id": "12978ed0",
   "metadata": {},
   "source": [
    "We can also define operators using the outer product of a ket and bra. For example we could define the raising operator $\\vert u \\rangle \\langle d \\vert$ as"
   ]
  },
  {
   "cell_type": "code",
   "execution_count": 14,
   "id": "d20f1e1d",
   "metadata": {},
   "outputs": [
    {
     "data": {
      "text/plain": [
       "diracpy.states_operators.qop"
      ]
     },
     "execution_count": 14,
     "metadata": {},
     "output_type": "execute_result"
    }
   ],
   "source": [
    "raise_op = up * down.conj()\n",
    "type(raise_op)"
   ]
  },
  {
   "cell_type": "markdown",
   "id": "7f54c1d3",
   "metadata": {},
   "source": [
    "which is no longer a `bra` or `ket` type object, but a `qop` object which can act to the right on kets or to the left on bras, where for example we expect $\\vert e \\rangle \\langle g \\vert g \\rangle = \\vert e \\rangle $, and $\\langle e \\vert e \\rangle \\langle g \\vert = \\langle g \\vert$."
   ]
  },
  {
   "cell_type": "code",
   "execution_count": 16,
   "id": "e523db31",
   "metadata": {},
   "outputs": [
    {
     "name": "stdout",
     "output_type": "stream",
     "text": [
      "ket['e']\n",
      "bra['g']\n",
      "ket[]\n"
     ]
    }
   ],
   "source": [
    "print(raise_op * down)\n",
    "print(up.conj() * raise_op)\n",
    "print(raise_op * up)"
   ]
  },
  {
   "cell_type": "markdown",
   "id": "0428350d",
   "metadata": {},
   "source": [
    "### Example of a two level system interacting with a classical field"
   ]
  },
  {
   "cell_type": "markdown",
   "id": "15ca02cf",
   "metadata": {},
   "source": [
    "We finish this section with a brief example of how diracpy's bra's and ket's can be used to express the hamiltonian of a two leve system interacting with a classical field. The hamiltonian for this system under the rotating wave approximation in the Schr\\\"odinger picture is\n",
    "$$\n",
    "    H = \\frac12 \\Delta \\left(\\vert e \\rangle \\langle e \\vert - \\vert g \\rangle \\langle g \\vert \\right)\n",
    "    + \\frac{\\Omega}{2} \\left( \\vert e \\rangle \\langle g \\vert + \\vert g \\rangle \\langle e \\vert \\right)\n",
    "$$\n",
    "where $\\Delta = \\omega_0 - \\omega$ is the enegy difference between the two level system's resonant frequency and the field, and $\\Omega$ is the Rabi freqeuency for this interaction (assumed here to be real). In diracpy we code this in a very similar way to which it is written mathematically."
   ]
  },
  {
   "cell_type": "code",
   "execution_count": 2,
   "id": "10460ee6",
   "metadata": {},
   "outputs": [],
   "source": [
    "Delta = 0\n",
    "Omega = 1\n",
    "\n",
    "e = dp.ket(['e'])\n",
    "g = dp.ket(['g'])\n",
    "\n",
    "H = 0.5 * Delta * (e * e.conj() - g * g.conj()) + 0.5 * Omega * (e * g.conj() + g * e.conj())"
   ]
  },
  {
   "cell_type": "markdown",
   "id": "0c83b906",
   "metadata": {},
   "source": [
    "One can easily retrieve the matrix elements of this Hamiltonian:"
   ]
  },
  {
   "cell_type": "code",
   "execution_count": 3,
   "id": "55b98a60",
   "metadata": {},
   "outputs": [
    {
     "data": {
      "text/plain": [
       "0.5"
      ]
     },
     "execution_count": 3,
     "metadata": {},
     "output_type": "execute_result"
    }
   ],
   "source": [
    "e.conj() * H * g"
   ]
  },
  {
   "cell_type": "markdown",
   "id": "f92b5f6d",
   "metadata": {},
   "source": [
    "We will see later how to solve the quantum dynamics once a Hamiltonian such as this is defined"
   ]
  },
  {
   "cell_type": "markdown",
   "id": "00951c11",
   "metadata": {},
   "source": [
    "In the next section we will consider more general ways to define operators in the state space section below."
   ]
  },
  {
   "cell_type": "markdown",
   "id": "2f20f30b",
   "metadata": {},
   "source": [
    "## Linear operators"
   ]
  },
  {
   "cell_type": "markdown",
   "id": "2f15e622",
   "metadata": {},
   "source": [
    "Thus far we have only considered quantum systems that can be defined in terms of bra's and ket's together with their outer products. This is sufficient for small state spaces where we maybe able to define all the neccesary operators of the Hamiltonian explicitly. However, mathematically speaking, for larger state spaces such a limited notation is not practical. Instead, we combine the dirac vectors and dual vectors with linear operators, which we can define in a more abstract way. A good example of this are the bosonic raising or lowering operators on Fock states where\n",
    "$$\n",
    "    a^\\dagger \\vert n \\rangle = \\sqrt{n+1} \\vert n+1 \\rangle,\\quad\n",
    "    a \\vert n \\rangle = \\sqrt{n} \\vert n-1 \\rangle\n",
    "$$\n",
    "which are true given any $n\\geq0$.\n",
    "These would be impractical to define using the outer products, e.g. for $a^\\dagger$ we could need the infinite sum $a^\\dagger = \\vert 1 \\rangle \\langle 0 \\vert + \\sqrt{2} \\vert 2 \\rangle \\langle 1 \\vert + \\dots + \\sqrt{n+1}\\vert n+1 \\rangle \\langle n \\vert + \\dots$, particulary as we know the general pattern given any $n$."
   ]
  },
  {
   "cell_type": "markdown",
   "id": "41006a69",
   "metadata": {},
   "source": [
    "Diracpy allows one to define operators abstractly wherever there exists a well defined mapping of indices and coefficients. For example, $a^\\dagger$ maps the index $n$ onto $n+1$, and the Fock states coefficient $c$ onto $c \\sqrt {n+1}$."
   ]
  },
  {
   "cell_type": "markdown",
   "id": "49a58b64",
   "metadata": {},
   "source": [
    "Explain how operators should be defined using the qop class\n",
    "\n",
    "Explain how diracpy linear operators obey the usual rules expected of them with a few simple examples.\n",
    "\n",
    "Highlight that linear operators do not require us explicitly give the basis (e.g. for the Fock states we never needed to know which Fock states would be considered.)"
   ]
  },
  {
   "cell_type": "markdown",
   "id": "971d4a19",
   "metadata": {},
   "source": [
    "## State spaces"
   ]
  },
  {
   "cell_type": "markdown",
   "id": "110a53b5",
   "metadata": {},
   "source": [
    "It is useful to group together certain states and all the operators that we need that act on these into a state space. Our system as a whole maybe the tensor product of several state spaces. This is very natural in dirac notation. For example, consider the Jaynes-Cummings model which has the Hamiltonian\n",
    "$$\n",
    "    H = \\omega a^\\dagger a + \\frac{\\omega_0}{2} \\sigma_z \n",
    "    + g \\left( a^\\dagger \\sigma_- + a \\sigma_+ \\right).\n",
    "$$\n",
    "The Hilbert space for this model is the tensor product space of the two level system, $\\{ \\vert g \\rangle, \\vert e \\rangle \\}$, and the Fock space of the cavity, $\\{ \\vert n \\rangle \\vert \\forall n \\in \\mathbb Z_+ \\}$."
   ]
  },
  {
   "cell_type": "code",
   "execution_count": null,
   "id": "59203cd7",
   "metadata": {},
   "outputs": [],
   "source": []
  }
 ],
 "metadata": {
  "kernelspec": {
   "display_name": "Python 3 (ipykernel)",
   "language": "python",
   "name": "python3"
  },
  "language_info": {
   "codemirror_mode": {
    "name": "ipython",
    "version": 3
   },
   "file_extension": ".py",
   "mimetype": "text/x-python",
   "name": "python",
   "nbconvert_exporter": "python",
   "pygments_lexer": "ipython3",
   "version": "3.8.16"
  }
 },
 "nbformat": 4,
 "nbformat_minor": 5
}
