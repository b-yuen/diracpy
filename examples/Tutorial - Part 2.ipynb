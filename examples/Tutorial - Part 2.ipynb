{
 "cells": [
  {
   "cell_type": "markdown",
   "id": "7a4a0a99",
   "metadata": {},
   "source": [
    "# DiracPy Tutorial - Part 2"
   ]
  },
  {
   "cell_type": "code",
   "execution_count": null,
   "id": "23f69299",
   "metadata": {},
   "outputs": [],
   "source": []
  },
  {
   "cell_type": "markdown",
   "id": "a5ca05e1",
   "metadata": {},
   "source": [
    "## Quantum systems in diracpy"
   ]
  },
  {
   "cell_type": "markdown",
   "id": "674cb237",
   "metadata": {},
   "source": [
    "The `qsys` class in diracpy creates quantum systems around a given Hamiltonian. To understand what a diracpy `qsys` is and why it is needed, we need to first explain the front-end and back-end of diracpy. The front-end presents the user with the interface to define bras, kets and operators. This was covered in part 1 of this tutorial, and allows these objects to be coded in the same way they would be written in Dirac notation. The back-end supports several methods to solve the quantum dynamics under a given Hamiltonian.\n",
    "\n",
    "Ultimately, to solve the dynamics, the abstract dirac vectors and operators must be written explicitly using lineary algebra (using numpy arrays in our case). The `qsys` class takes a Hamiltonian and the inital state of the system, then finds an appropriate basis to describe the system, and defines the Hamiltonian matrix in this basis."
   ]
  },
  {
   "cell_type": "markdown",
   "id": "bb9a91a0",
   "metadata": {},
   "source": [
    "## Time dependent quantum systems"
   ]
  },
  {
   "cell_type": "markdown",
   "id": "152fb3fd",
   "metadata": {},
   "source": [
    "An example of a time dependent quantum system given by the Hamiltonian\n",
    "$$\n",
    "    H = \\sigma_z \\Delta \n",
    "    + \\frac12 \\Omega(t) (a^{\\dagger} \\sigma_- + a \\sigma_+)\n",
    "$$\n",
    "where $\\Omega(t) = \\Omega \\sin (\\pi t)^2$ for $0<t<1$, and $\\Delta = \\omega_0-\\omega$ is the detuning of a coherent driving field from resonance of the two level system."
   ]
  },
  {
   "cell_type": "code",
   "execution_count": 2,
   "id": "b6f7dbf4",
   "metadata": {},
   "outputs": [],
   "source": [
    "import matplotlib.pyplot as plt\n",
    "import diracpy as dp\n",
    "import numpy as np"
   ]
  },
  {
   "cell_type": "code",
   "execution_count": 9,
   "id": "846353eb",
   "metadata": {},
   "outputs": [],
   "source": [
    "def f(t):\n",
    "    return np.sin(np.pi * t)**2"
   ]
  },
  {
   "cell_type": "code",
   "execution_count": 8,
   "id": "a06e5fc8",
   "metadata": {},
   "outputs": [
    {
     "data": {
      "image/png": "[encoded data removed]",
      "text/plain": [
       "<Figure size 640x480 with 1 Axes>"
      ]
     },
     "metadata": {},
     "output_type": "display_data"
    }
   ],
   "source": [
    "fig, ax = plt.subplots(1,1)\n",
    "times = np.linspace(0,1,50)\n",
    "ax.plot(times, amp(times))\n",
    "ax.set_xlabel('t')\n",
    "ax.set_ylabel('amp(t)')\n",
    "plt.show()"
   ]
  },
  {
   "cell_type": "markdown",
   "id": "2b5c26b8",
   "metadata": {},
   "source": [
    "We next define the state spaces for the atom and field, and the term of the hamiltonian."
   ]
  },
  {
   "cell_type": "code",
   "execution_count": 12,
   "id": "2e3fda55",
   "metadata": {},
   "outputs": [],
   "source": [
    "atom = dp.two_level_subspace(index=0)\n",
    "laser = dp.floquet_subspace(index=1)\n",
    "\n",
    "Delta, Omega = 0, 1\n",
    "\n",
    "H_0 = Delta * atom.sigma_z\n",
    "V = 0.5 * Omega * (laser.a * atom.sigma_plus + laser.adag * atom.sigma_minus)"
   ]
  },
  {
   "cell_type": "markdown",
   "id": "3d39188f",
   "metadata": {},
   "source": [
    "where the time dependent Hamiltonian would be given by `H_0 + f(t) * V`.\n",
    "However, diracpy only recognises `f(t)*V` when a time `t` is defined and thus `f(f)` returns a scalar. Instead, define a time dependent quantum system `dp.qsys_t` and pass the static part of the Hamiltonian, `H_0`, the dynamic part `V` and the function of the dynamic coefficient, `f`."
   ]
  },
  {
   "cell_type": "code",
   "execution_count": 16,
   "id": "8e6b4069",
   "metadata": {},
   "outputs": [],
   "source": [
    "psi0 = dp.ket(['g',0])\n",
    "system = dp.qsys_t(H_0, [V], [f], initialstates=[psi0], n_int=2)"
   ]
  },
  {
   "cell_type": "markdown",
   "id": "c74c87e2",
   "metadata": {},
   "source": [
    "We can now access the time dependent Hamiltonian, which at `t=0.5` is"
   ]
  },
  {
   "cell_type": "code",
   "execution_count": 18,
   "id": "994ac4e0",
   "metadata": {},
   "outputs": [
    {
     "data": {
      "text/plain": [
       "array([[0. +0.j, 0.5+0.j],\n",
       "       [0.5+0.j, 0. +0.j]])"
      ]
     },
     "execution_count": 18,
     "metadata": {},
     "output_type": "execute_result"
    }
   ],
   "source": [
    "system.ham(0.5)"
   ]
  },
  {
   "cell_type": "markdown",
   "id": "224c9735",
   "metadata": {},
   "source": [
    "and at `t=0` is"
   ]
  },
  {
   "cell_type": "code",
   "execution_count": 19,
   "id": "90a811ee",
   "metadata": {},
   "outputs": [
    {
     "data": {
      "text/plain": [
       "array([[0.+0.j, 0.+0.j],\n",
       "       [0.+0.j, 0.+0.j]])"
      ]
     },
     "execution_count": 19,
     "metadata": {},
     "output_type": "execute_result"
    }
   ],
   "source": [
    "system.ham(0)"
   ]
  },
  {
   "cell_type": "code",
   "execution_count": null,
   "id": "91ffd318",
   "metadata": {},
   "outputs": [],
   "source": []
  }
 ],
 "metadata": {
  "kernelspec": {
   "display_name": "Python 3 (ipykernel)",
   "language": "python",
   "name": "python3"
  },
  "language_info": {
   "codemirror_mode": {
    "name": "ipython",
    "version": 3
   },
   "file_extension": ".py",
   "mimetype": "text/x-python",
   "name": "python",
   "nbconvert_exporter": "python",
   "pygments_lexer": "ipython3",
   "version": "3.8.16"
  }
 },
 "nbformat": 4,
 "nbformat_minor": 5
}
