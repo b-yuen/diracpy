{
 "cells": [
  {
   "cell_type": "markdown",
   "id": "7a4a0a99",
   "metadata": {},
   "source": [
    "# DiracPy Tutorial - Part 1"
   ]
  },
  {
   "cell_type": "code",
   "execution_count": null,
   "id": "23f69299",
   "metadata": {},
   "outputs": [],
   "source": []
  },
  {
   "cell_type": "markdown",
   "id": "a5ca05e1",
   "metadata": {},
   "source": [
    "## Quantum systems in diracpy"
   ]
  },
  {
   "cell_type": "markdown",
   "id": "674cb237",
   "metadata": {},
   "source": [
    "The `qsys` class in diracpy creates quantum systems around a given Hamiltonian. To understand what a diracpy `qsys` is and why it is needed, we need to first explain the front-end and back-end of diracpy. The front-end presents the user with the interface to define bras, kets and operators. This was covered in part 1 of this tutorial, and allows these objects to be coded in the same way they would be written in Dirac notation. The back-end supports several methods to solve the quantum dynamics under a given Hamiltonian.\n",
    "\n",
    "Ultimately, to solve the dynamics, the abstract dirac vectors and operators must be written explicitly using lineary algebra (using numpy arrays in our case). The `qsys` class takes a Hamiltonian and the inital state of the system, then finds an appropriate basis to describe the system, and defines the Hamiltonian matrix in this basis."
   ]
  },
  {
   "cell_type": "code",
   "execution_count": null,
   "id": "d8328719",
   "metadata": {},
   "outputs": [],
   "source": []
  }
 ],
 "metadata": {
  "kernelspec": {
   "display_name": "Python 3 (ipykernel)",
   "language": "python",
   "name": "python3"
  },
  "language_info": {
   "codemirror_mode": {
    "name": "ipython",
    "version": 3
   },
   "file_extension": ".py",
   "mimetype": "text/x-python",
   "name": "python",
   "nbconvert_exporter": "python",
   "pygments_lexer": "ipython3",
   "version": "3.8.16"
  }
 },
 "nbformat": 4,
 "nbformat_minor": 5
}
